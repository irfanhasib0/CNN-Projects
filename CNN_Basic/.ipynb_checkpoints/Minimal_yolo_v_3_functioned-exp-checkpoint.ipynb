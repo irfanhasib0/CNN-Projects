{
 "cells": [
  {
   "cell_type": "markdown",
   "metadata": {
    "colab_type": "text",
    "id": "2hDx1_O_absD"
   },
   "source": [
    "### Initialization Bock"
   ]
  },
  {
   "cell_type": "code",
   "execution_count": 1,
   "metadata": {
    "colab": {
     "base_uri": "https://localhost:8080/",
     "height": 344
    },
    "colab_type": "code",
    "executionInfo": {
     "elapsed": 5812,
     "status": "ok",
     "timestamp": 1562823131674,
     "user": {
      "displayName": "irfan hasib",
      "photoUrl": "https://lh4.googleusercontent.com/-6rVnRThUoWk/AAAAAAAAAAI/AAAAAAAADsk/X6dBOaUVMS4/s64/photo.jpg",
      "userId": "16061096143782894681"
     },
     "user_tz": -360
    },
    "id": "h1HPqGKtZdQ8",
    "outputId": "0543c1fe-60df-4bca-cf10-212504dd2dab"
   },
   "outputs": [
    {
     "name": "stderr",
     "output_type": "stream",
     "text": [
      "C:\\Users\\irfan\\Anaconda3\\envs\\tf\\lib\\site-packages\\tensorflow\\python\\framework\\dtypes.py:523: FutureWarning: Passing (type, 1) or '1type' as a synonym of type is deprecated; in a future version of numpy, it will be understood as (type, (1,)) / '(1,)type'.\n",
      "  _np_qint8 = np.dtype([(\"qint8\", np.int8, 1)])\n",
      "C:\\Users\\irfan\\Anaconda3\\envs\\tf\\lib\\site-packages\\tensorflow\\python\\framework\\dtypes.py:524: FutureWarning: Passing (type, 1) or '1type' as a synonym of type is deprecated; in a future version of numpy, it will be understood as (type, (1,)) / '(1,)type'.\n",
      "  _np_quint8 = np.dtype([(\"quint8\", np.uint8, 1)])\n",
      "C:\\Users\\irfan\\Anaconda3\\envs\\tf\\lib\\site-packages\\tensorflow\\python\\framework\\dtypes.py:525: FutureWarning: Passing (type, 1) or '1type' as a synonym of type is deprecated; in a future version of numpy, it will be understood as (type, (1,)) / '(1,)type'.\n",
      "  _np_qint16 = np.dtype([(\"qint16\", np.int16, 1)])\n",
      "C:\\Users\\irfan\\Anaconda3\\envs\\tf\\lib\\site-packages\\tensorflow\\python\\framework\\dtypes.py:526: FutureWarning: Passing (type, 1) or '1type' as a synonym of type is deprecated; in a future version of numpy, it will be understood as (type, (1,)) / '(1,)type'.\n",
      "  _np_quint16 = np.dtype([(\"quint16\", np.uint16, 1)])\n",
      "C:\\Users\\irfan\\Anaconda3\\envs\\tf\\lib\\site-packages\\tensorflow\\python\\framework\\dtypes.py:527: FutureWarning: Passing (type, 1) or '1type' as a synonym of type is deprecated; in a future version of numpy, it will be understood as (type, (1,)) / '(1,)type'.\n",
      "  _np_qint32 = np.dtype([(\"qint32\", np.int32, 1)])\n",
      "C:\\Users\\irfan\\Anaconda3\\envs\\tf\\lib\\site-packages\\tensorflow\\python\\framework\\dtypes.py:532: FutureWarning: Passing (type, 1) or '1type' as a synonym of type is deprecated; in a future version of numpy, it will be understood as (type, (1,)) / '(1,)type'.\n",
      "  np_resource = np.dtype([(\"resource\", np.ubyte, 1)])\n"
     ]
    }
   ],
   "source": [
    "# Initialization\n",
    "colab_run=False\n",
    "anc_box= False\n",
    "train=True\n",
    "if colab_run==True:\n",
    "  !pip install pydrive\n",
    "  from pydrive.auth import GoogleAuth\n",
    "  from pydrive.drive import GoogleDrive\n",
    "  from google.colab import auth\n",
    "  from oauth2client.client import GoogleCredentials\n",
    "\n",
    "  auth.authenticate_user()\n",
    "  gauth = GoogleAuth()\n",
    "  gauth.credentials = GoogleCredentials.get_application_default()\n",
    "  drive = GoogleDrive(gauth)\n",
    "\n",
    "  import os, cv2\n",
    "  from google.colab import drive\n",
    "  drive.mount('/content/drive/')\n",
    "\n",
    "\n",
    "from tensorflow.keras.models import Sequential, Model\n",
    "from tensorflow.keras.layers import Reshape, Activation, Conv2D, Input, MaxPooling2D, BatchNormalization, Flatten, Dense, Lambda\n",
    "from tensorflow.keras.layers import LeakyReLU\n",
    "from tensorflow.keras.callbacks import EarlyStopping, ModelCheckpoint, TensorBoard\n",
    "from tensorflow.keras.optimizers import SGD, Adam, RMSprop\n",
    "from tensorflow.keras.layers import concatenate\n",
    "from matplotlib import pyplot as plt\n",
    "import tensorflow.keras.backend as K\n",
    "import tensorflow as tf\n",
    "import numpy as np\n",
    "import pickle\n",
    "import os, cv2\n",
    "\n",
    "#os.environ[\"CUDA_DEVICE_ORDER\"] = \"PCI_BUS_ID\"\n",
    "#os.environ[\"CUDA_VISIBLE_DEVICES\"] = \"\"\n",
    "\n",
    "# %matplotlib inline\n"
   ]
  },
  {
   "cell_type": "markdown",
   "metadata": {
    "colab_type": "text",
    "id": "XcCwnGYHaul2"
   },
   "source": [
    "### Configure Block"
   ]
  },
  {
   "cell_type": "markdown",
   "metadata": {
    "colab_type": "text",
    "id": "Q5eIxqVja27b"
   },
   "source": [
    "### Model Building Block"
   ]
  },
  {
   "cell_type": "code",
   "execution_count": 2,
   "metadata": {
    "colab": {},
    "colab_type": "code",
    "id": "dDHEMWhWZo40"
   },
   "outputs": [],
   "source": [
    "LABELS=['person', 'bird', 'cat', 'cow', 'dog', 'horse', 'sheep','aeroplane', 'bicycle',\n",
    "         'boat', 'bus', 'car', 'motorbike', 'train', 'bottle', 'chair','dining table',\n",
    "         'potted plant', 'sofa', 'tvmonitor']\n",
    "\n",
    "IMAGE_H, IMAGE_W = 416, 416\n",
    "GRID_H,  GRID_W  = 13 , 13 \n",
    "BOX              = 5\n",
    "CLASS            = len(LABELS)\n",
    "CLASS_WEIGHTS    = np.ones(CLASS, dtype='float32')\n",
    "OBJ_THRESHOLD    = 0.3#0.5\n",
    "NMS_THRESHOLD    = 0.3#0.45\n",
    "#ANCHORS          = [0.57273, 0.677385, 1.87446, 2.06253, 3.33843, 5.47434, 7.88282, 3.52778, 9.77052, 9.16828]\n",
    "ANCHORS          = [ 4.469053,2.148582,10.548851,5.381520,11.420664,9.961033,6.517299,3.699693,2.469196,1.599054]\n",
    "#ANCHORS=[13,13]\n",
    "NO_OBJECT_SCALE  = 1.0\n",
    "OBJECT_SCALE     = 5.0\n",
    "COORD_SCALE      = 1.0\n",
    "CLASS_SCALE      = 1.0\n",
    "\n",
    "batch_size       = 10\n",
    "WARM_UP_BATCHES  = 0\n",
    "TRUE_BOX_BUFFER  = 50\n"
   ]
  },
  {
   "cell_type": "code",
   "execution_count": 3,
   "metadata": {
    "colab": {},
    "colab_type": "code",
    "id": "sJnrCWISZz8S"
   },
   "outputs": [],
   "source": [
    "# the function to implement the orgnization layer (thanks to github.com/allanzelener/YAD2K)\n",
    "def space_to_depth_x2(x):\n",
    "    return tf.space_to_depth(x, block_size=2)\n",
    "\n",
    "def build_model():\n",
    "  input_image = Input(shape=(IMAGE_H, IMAGE_W, 3))\n",
    "  true_boxes  = Input(shape=(1, 1, 1, TRUE_BOX_BUFFER , 4))\n",
    "\n",
    "  # Layer 1\n",
    "  x = Conv2D(32, (3,3), strides=(1,1), padding='same', name='conv_1', use_bias=False)(input_image)\n",
    "  x = BatchNormalization(name='norm_1')(x)\n",
    "  x = LeakyReLU(alpha=0.1)(x)\n",
    "  x = MaxPooling2D(pool_size=(2, 2))(x)\n",
    "\n",
    "  # Layer 2\n",
    "  x = Conv2D(64, (3,3), strides=(1,1), padding='same', name='conv_2', use_bias=False)(x)\n",
    "  x = BatchNormalization(name='norm_2')(x)\n",
    "  x = LeakyReLU(alpha=0.1)(x)\n",
    "  x = MaxPooling2D(pool_size=(2, 2))(x)\n",
    "\n",
    "  # Layer 3\n",
    "  x = Conv2D(128, (3,3), strides=(1,1), padding='same', name='conv_3', use_bias=False)(x)\n",
    "  x = BatchNormalization(name='norm_3')(x)\n",
    "  x = LeakyReLU(alpha=0.1)(x)\n",
    "\n",
    "  # Layer 4\n",
    "  x = Conv2D(64, (1,1), strides=(1,1), padding='same', name='conv_4', use_bias=False)(x)\n",
    "  x = BatchNormalization(name='norm_4')(x)\n",
    "  x = LeakyReLU(alpha=0.1)(x)\n",
    "\n",
    "  # Layer 5\n",
    "  x = Conv2D(128, (3,3), strides=(1,1), padding='same', name='conv_5', use_bias=False)(x)\n",
    "  x = BatchNormalization(name='norm_5')(x)\n",
    "  x = LeakyReLU(alpha=0.1)(x)\n",
    "  x = MaxPooling2D(pool_size=(2, 2))(x)\n",
    "\n",
    "  # Layer 6\n",
    "  x = Conv2D(256, (3,3), strides=(1,1), padding='same', name='conv_6', use_bias=False)(x)\n",
    "  x = BatchNormalization(name='norm_6')(x)\n",
    "  x = LeakyReLU(alpha=0.1)(x)\n",
    "\n",
    "  # Layer 7\n",
    "  x = Conv2D(128, (1,1), strides=(1,1), padding='same', name='conv_7', use_bias=False)(x)\n",
    "  x = BatchNormalization(name='norm_7')(x)\n",
    "  x = LeakyReLU(alpha=0.1)(x)\n",
    "\n",
    "  # Layer 8\n",
    "  x = Conv2D(256, (3,3), strides=(1,1), padding='same', name='conv_8', use_bias=False)(x)\n",
    "  x = BatchNormalization(name='norm_8')(x)\n",
    "  x = LeakyReLU(alpha=0.1)(x)\n",
    "  x = MaxPooling2D(pool_size=(2, 2))(x)\n",
    "\n",
    "  # Layer 9\n",
    "  x = Conv2D(512, (3,3), strides=(1,1), padding='same', name='conv_9', use_bias=False)(x)\n",
    "  x = BatchNormalization(name='norm_9')(x)\n",
    "  x = LeakyReLU(alpha=0.1)(x)\n",
    "\n",
    "  # Layer 10\n",
    "  x = Conv2D(256, (1,1), strides=(1,1), padding='same', name='conv_10', use_bias=False)(x)\n",
    "  x = BatchNormalization(name='norm_10')(x)\n",
    "  x = LeakyReLU(alpha=0.1)(x)\n",
    "\n",
    "  # Layer 11\n",
    "  x = Conv2D(512, (3,3), strides=(1,1), padding='same', name='conv_11', use_bias=False)(x)\n",
    "  x = BatchNormalization(name='norm_11')(x)\n",
    "  x = LeakyReLU(alpha=0.1)(x)\n",
    "\n",
    "  # Layer 12\n",
    "  x = Conv2D(256, (1,1), strides=(1,1), padding='same', name='conv_12', use_bias=False)(x)\n",
    "  x = BatchNormalization(name='norm_12')(x)\n",
    "  x = LeakyReLU(alpha=0.1)(x)\n",
    "\n",
    "  # Layer 13\n",
    "  x = Conv2D(512, (3,3), strides=(1,1), padding='same', name='conv_13', use_bias=False)(x)\n",
    "  x = BatchNormalization(name='norm_13')(x)\n",
    "  x = LeakyReLU(alpha=0.1)(x)\n",
    "\n",
    "  skip_connection = x\n",
    "\n",
    "  x = MaxPooling2D(pool_size=(2, 2))(x)\n",
    "\n",
    "  # Layer 14\n",
    "  x = Conv2D(1024, (3,3), strides=(1,1), padding='same', name='conv_14', use_bias=False)(x)\n",
    "  x = BatchNormalization(name='norm_14')(x)\n",
    "  x = LeakyReLU(alpha=0.1)(x)\n",
    "\n",
    "  # Layer 15\n",
    "  x = Conv2D(512, (1,1), strides=(1,1), padding='same', name='conv_15', use_bias=False)(x)\n",
    "  x = BatchNormalization(name='norm_15')(x)\n",
    "  x = LeakyReLU(alpha=0.1)(x)\n",
    "\n",
    "  # Layer 16\n",
    "  x = Conv2D(1024, (3,3), strides=(1,1), padding='same', name='conv_16', use_bias=False)(x)\n",
    "  x = BatchNormalization(name='norm_16')(x)\n",
    "  x = LeakyReLU(alpha=0.1)(x)\n",
    "\n",
    "  # Layer 17\n",
    "  x = Conv2D(512, (1,1), strides=(1,1), padding='same', name='conv_17', use_bias=False)(x)\n",
    "  x = BatchNormalization(name='norm_17')(x)\n",
    "  x = LeakyReLU(alpha=0.1)(x)\n",
    "\n",
    "  # Layer 18\n",
    "  x = Conv2D(1024, (3,3), strides=(1,1), padding='same', name='conv_18', use_bias=False)(x)\n",
    "  x = BatchNormalization(name='norm_18')(x)\n",
    "  x = LeakyReLU(alpha=0.1)(x)\n",
    "\n",
    "  # Layer 19\n",
    "  x = Conv2D(1024, (3,3), strides=(1,1), padding='same', name='conv_19', use_bias=False)(x)\n",
    "  x = BatchNormalization(name='norm_19')(x)\n",
    "  x = LeakyReLU(alpha=0.1)(x)\n",
    "\n",
    "  # Layer 20\n",
    "  x = Conv2D(1024, (3,3), strides=(1,1), padding='same', name='conv_20', use_bias=False)(x)\n",
    "  x = BatchNormalization(name='norm_20')(x)\n",
    "  x = LeakyReLU(alpha=0.1)(x)\n",
    "\n",
    "  # Layer 21\n",
    "  skip_connection = Conv2D(64, (1,1), strides=(1,1), padding='same', name='conv_21', use_bias=False)(skip_connection)\n",
    "  skip_connection = BatchNormalization(name='norm_21')(skip_connection)\n",
    "  skip_connection = LeakyReLU(alpha=0.1)(skip_connection)\n",
    "  skip_connection = Lambda(space_to_depth_x2)(skip_connection)\n",
    "\n",
    "  x = concatenate([skip_connection, x])\n",
    "\n",
    "  # Layer 22\n",
    "  x = Conv2D(1024, (3,3), strides=(1,1), padding='same', name='conv_22', use_bias=False)(x)\n",
    "  x = BatchNormalization(name='norm_22')(x)\n",
    "  x = LeakyReLU(alpha=0.1)(x)\n",
    "\n",
    "  if anc_box==True:\n",
    "    # Layer 23\n",
    "    x = Conv2D(BOX*(4 + 1 + CLASS), (1,1), strides=(1,1), padding='same', name='conv_23')(x)\n",
    "    output = Reshape((GRID_H, GRID_W,BOX,4 + 1 + CLASS))(x)\n",
    "  else :\n",
    "    # Layer 23\n",
    "    x = Conv2D((4 + 1 + CLASS), (1,1), strides=(1,1), padding='same', name='conv_23')(x)\n",
    "    output = Reshape((GRID_H, GRID_W,4 + 1 + CLASS))(x)\n",
    "\n",
    "  # small hack to allow true_boxes to be registered when Keras build the model \n",
    "  # for more information: https://github.com/fchollet/keras/issues/2790\n",
    "  #output = Lambda(lambda args: args[0])([output, true_boxes])#Change :Hasib\n",
    "\n",
    "  #model = Model([input_image, true_boxes], output)#Change :Hasib\n",
    "  model = Model(input_image, output)\n",
    "  return model\n",
    "  #model.load_weights('/content/drive/My Drive/Data/yolo_net_ep500_act.h5')\n",
    "\n",
    "\n",
    "class WeightReader:\n",
    "    def __init__(self, weight_file):\n",
    "        self.offset = 4\n",
    "        self.all_weights = np.fromfile(weight_file, dtype='float32')\n",
    "        \n",
    "    def read_bytes(self, size):\n",
    "        self.offset = self.offset + size\n",
    "        return self.all_weights[self.offset-size:self.offset]\n",
    "    \n",
    "    def reset(self):\n",
    "        self.offset = 4\n",
    "\n",
    "def load_weights(model,path_wst):\n",
    "  wt_path = path_wts                      \n",
    "  weight_reader = WeightReader(wt_path)\n",
    "  weight_reader.reset()\n",
    "  nb_conv = 23\n",
    "\n",
    "  for i in range(1, nb_conv+1):\n",
    "      conv_layer = model.get_layer('conv_' + str(i))\n",
    "\n",
    "      if i < nb_conv:\n",
    "          norm_layer = model.get_layer('norm_' + str(i))\n",
    "\n",
    "          size = np.prod(norm_layer.get_weights()[0].shape)\n",
    "\n",
    "          beta  = weight_reader.read_bytes(size)\n",
    "          gamma = weight_reader.read_bytes(size)\n",
    "          mean  = weight_reader.read_bytes(size)\n",
    "          var   = weight_reader.read_bytes(size)\n",
    "\n",
    "          weights = norm_layer.set_weights([gamma, beta, mean, var])       \n",
    "\n",
    "      if len(conv_layer.get_weights()) > 1:\n",
    "          bias   = weight_reader.read_bytes(np.prod(conv_layer.get_weights()[1].shape))\n",
    "          kernel = weight_reader.read_bytes(np.prod(conv_layer.get_weights()[0].shape))\n",
    "          kernel = kernel.reshape(list(reversed(conv_layer.get_weights()[0].shape)))\n",
    "          kernel = kernel.transpose([2,3,1,0])\n",
    "          conv_layer.set_weights([kernel, bias])\n",
    "      else:\n",
    "          kernel = weight_reader.read_bytes(np.prod(conv_layer.get_weights()[0].shape))\n",
    "          kernel = kernel.reshape(list(reversed(conv_layer.get_weights()[0].shape)))\n",
    "          kernel = kernel.transpose([2,3,1,0])\n",
    "          conv_layer.set_weights([kernel])\n",
    "  return model\n",
    "\n",
    "\n",
    "def yolo_loss_0(y_true, y_pred):\n",
    "        loss=0\n",
    "      #for n in range(BATCH_SIZE):\n",
    "        for i in range(GRID_H):\n",
    "          for j in range(GRID_W):\n",
    "            for k in range(0,6):\n",
    "              temp=y_true[i,j,k]-y_pred[i,j,k]\n",
    "              #temp=temp**2\n",
    "              loss+=temp\n",
    "              \n",
    "        return loss \n",
    "def yolo_loss_1(y_true, y_pred):\n",
    "      loss=0\n",
    "          ### adjust w and h\n",
    "      ob_mask= tf.expand_dims(y_true[..., 4], axis=-1)\n",
    "      conf_mask=y_true[...,4]\n",
    "      \n",
    "      if anc_box==True:\n",
    "        cell_x = tf.to_float(tf.reshape(tf.tile(tf.range(GRID_W), [GRID_H]), (1, GRID_H, GRID_W, 1, 1)))\n",
    "        cell_y = tf.transpose(cell_x, (0,2,1,3,4))\n",
    "        cell_grid = tf.tile(tf.concat([cell_x,cell_y], -1), [BATCH_SIZE, 1, 1, 5, 1])\n",
    "\n",
    "        pred_xy = tf.sigmoid(y_pred[..., :2]) + cell_grid\n",
    "        pred_wh = tf.exp(y_pred[..., 2:4]) * np.reshape(ANCHORS, [1,1,1,BOX,2])\n",
    "      \n",
    "      else:\n",
    "        pred_xy=(y_pred[...,0:2])\n",
    "        pred_wh=(y_pred[...,2:4])\n",
    "      \n",
    "      true_xy=y_true[...,0:2]\n",
    "      true_wh=y_true[...,2:4]\n",
    "      \n",
    "      #pred_wh=tf.multiply(pred_wh,ob_mask)\n",
    "      pred_conf=y_pred[...,4]\n",
    "      ### adjust confidence\n",
    "      true_wh_half = true_wh / 2.\n",
    "      true_mins    = tf.subtract(true_xy,true_wh_half)\n",
    "      true_maxes   = tf.add(true_xy,true_wh_half)\n",
    "    \n",
    "      pred_wh_half = pred_wh / 2.\n",
    "      pred_mins    = tf.subtract(pred_xy,pred_wh_half)\n",
    "      pred_maxes   = tf.add(pred_xy,pred_wh_half)       \n",
    "    \n",
    "      intersect_mins  = tf.maximum(pred_mins,  true_mins)\n",
    "      intersect_maxes = tf.minimum(pred_maxes, true_maxes)\n",
    "      intersect_wh    = tf.maximum(intersect_maxes - intersect_mins, 0.)\n",
    "      intersect_areas = tf.multiply(intersect_wh[..., 0] , intersect_wh[..., 1])\n",
    "    \n",
    "      true_areas = tf.multiply(true_wh[..., 0] , true_wh[..., 1])\n",
    "      pred_areas = tf.multiply(pred_wh[..., 0] , pred_wh[..., 1])\n",
    "\n",
    "      union_areas =tf.subtract(tf.add(pred_areas,true_areas),intersect_areas)\n",
    "      intersect_areas=tf.add(intersect_areas,1)\n",
    "      union_areas=tf.add(union_areas,1)\n",
    "      iou_scores  = tf.truediv(intersect_areas, union_areas)\n",
    "      true_box_class = tf.argmax(y_true[..., 5:], -1)\n",
    "      pred_box_class=y_pred[..., 4]\n",
    "      pred_box_class = y_pred[..., 5:]\n",
    "      class_mask = y_true[..., 4] * tf.gather(CLASS_WEIGHTS, true_box_class)\n",
    "    \n",
    "      #class_mask = y_true[..., 4] * tf.to_float(true_box_class)\n",
    "      nb_class_box = tf.reduce_sum(tf.to_float(class_mask > 0.0))\n",
    "      true_conf =tf.multiply( iou_scores,y_true[..., 4])\n",
    "      \n",
    "      loss_bb=tf.subtract(true_xy,pred_xy)\n",
    "      loss_bb=tf.square(loss_bb)\n",
    "      loss_bb=tf.multiply(loss_bb,ob_mask)\n",
    "      loss_bb=tf.reduce_sum(loss_bb)\n",
    "      loss_wh=tf.subtract((true_wh),(pred_wh))\n",
    "      loss_wh=tf.square(loss_wh)\n",
    "      loss_wh=tf.multiply(loss_wh,ob_mask)\n",
    "      loss_wh=tf.reduce_sum(loss_wh)\n",
    "      loss_conf=tf.subtract(true_conf,pred_conf)\n",
    "      loss_conf=tf.square(loss_conf)\n",
    "      loss_conf=tf.multiply(loss_conf,conf_mask)\n",
    "      loss_conf=tf.reduce_sum(loss_conf)\n",
    "      loss_class = tf.nn.sparse_softmax_cross_entropy_with_logits(labels=true_box_class, logits=pred_box_class)\n",
    "      loss_class = tf.reduce_sum(loss_class * class_mask) / (nb_class_box + 1e-6)\n",
    "      loss=loss_bb+loss_wh+loss_conf+loss_class       \n",
    "      return loss\n"
   ]
  },
  {
   "cell_type": "markdown",
   "metadata": {
    "colab_type": "text",
    "id": "Z9qdIbN_a8at"
   },
   "source": [
    "### Data Ready Block"
   ]
  },
  {
   "cell_type": "code",
   "execution_count": 4,
   "metadata": {
    "colab": {},
    "colab_type": "code",
    "id": "hAALW0WuaCuO"
   },
   "outputs": [],
   "source": [
    "def _interval_overlap(interval_a, interval_b):\n",
    "    x1, x2 = interval_a\n",
    "    x3, x4 = interval_b\n",
    "\n",
    "    if x3 < x1:\n",
    "        if x4 < x1:\n",
    "            return 0\n",
    "        else:\n",
    "            return min(x2,x4) - x1\n",
    "    else:\n",
    "        if x2 < x3:\n",
    "             return 0\n",
    "        else:\n",
    "            return min(x2,x4) - x3          \n",
    "\n",
    "def bbox_iou(box1, box2):\n",
    "    box1_xmin,box1_ymin,box1_xmax,box1_ymax=box1\n",
    "    box2_xmin,box2_ymin,box2_xmax,box2_ymax=box2\n",
    "    intersect_w = _interval_overlap([box1_xmin, box1_xmax], [box2_xmin, box2_xmax])\n",
    "    intersect_h = _interval_overlap([box1_ymin, box1_ymax], [box2_ymin, box2_ymax])  \n",
    "    \n",
    "    intersect = intersect_w * intersect_h\n",
    "\n",
    "    w1, h1 = box1_xmax-box1_xmin, box1_ymax-box1_ymin\n",
    "    w2, h2 = box2_xmax-box2_xmin, box2_ymax-box2_ymin\n",
    "    \n",
    "    union = w1*h1 + w2*h2 - intersect\n",
    "    \n",
    "    return float(intersect) / union\n",
    "  \n",
    "def Batch_Gen(all_data,no_of_batch):\n",
    "      while(True):\n",
    "            N=len(all_data)\n",
    "            _batch_size=N//no_of_batch\n",
    "\n",
    "            for _ind in range(no_of_batch):\n",
    "\n",
    "                batch=all_data[_ind*_batch_size:(_ind+1)*_batch_size]\n",
    "                n=len(batch)\n",
    "                x_batch = np.zeros((n,IMAGE_H, IMAGE_W,3),dtype=np.float32)                         # input images\n",
    "                if anc_box==True:\n",
    "                  y_batch = np.zeros((n, GRID_H, GRID_W,BOX,4+1+len(LABELS)),dtype=np.float)                # desired network output\n",
    "                else :\n",
    "                  y_batch = np.zeros((n, GRID_H, GRID_W,4+1+len(LABELS)),dtype=np.float)                # desired network output\n",
    "                instance_count=0\n",
    "\n",
    "                \n",
    "                for sample in batch:\n",
    "\n",
    "                        image_name = sample['filename']\n",
    "                        img = cv2.imread(image_name)\n",
    "                        img = cv2.resize(img, (IMAGE_H,IMAGE_W))\n",
    "                        img = img[:,:,::-1]\n",
    "                        img_w=sample['height']\n",
    "                        img_h=sample['width']\n",
    "                        all_objs = sample['object']\n",
    "                        # construct output from object's x, y, w, h\n",
    "                        true_box_index = 0\n",
    "                        anchors = [[0, 0, ANCHORS[2*i], ANCHORS[2*i+1]] for i in range(int(len(ANCHORS)//2))]\n",
    "                        for obj in all_objs:\n",
    "                            no_gridx=float(IMAGE_W / GRID_W)\n",
    "                            no_gridy=float(IMAGE_H /GRID_H)\n",
    "                            if obj['xmax'] > obj['xmin'] and obj['ymax'] > obj['ymin'] and obj['name'] in LABELS:\n",
    "                                center_x = .5*(obj['xmin'] + obj['xmax'])\n",
    "                                center_x = center_x/no_gridx\n",
    "                                center_y = .5*(obj['ymin'] + obj['ymax'])\n",
    "                                center_y=center_y/no_gridy\n",
    "                                grid_x = int(np.floor(center_x))\n",
    "                                grid_y = int(np.floor(center_y))\n",
    "                                center_x-=grid_x\n",
    "                                center_y-=grid_y\n",
    "                                #center_x-=grid_x\n",
    "                                #center_y-=grid_y\n",
    "                                if grid_x < GRID_W and grid_y < GRID_H:\n",
    "                                    obj_indx  = LABELS.index(obj['name'])\n",
    "                                    center_w = (obj['xmax'] - obj['xmin'])/no_gridx #/ (float(self.config['IMAGE_W'])# / self.config['GRID_W']) # unit: grid cell\n",
    "                                    center_h = (obj['ymax'] - obj['ymin'])/no_gridy #/ (float(self.config['IMAGE_H'])# / self.config['GRID_H']) # unit: grid cell\n",
    "                                    center_w=center_w\n",
    "                                    center_h=center_h\n",
    "\n",
    "                                    box = [center_x, center_y, center_w, center_h]\n",
    "\n",
    "                                    # find the anchor that best predicts this box#Change :Hasib\n",
    "                                    best_anchor = -1\n",
    "                                    max_iou     = -1\n",
    "\n",
    "                                    shifted_box = [0, 0, center_w, center_h]\n",
    "\n",
    "                                    for i in range(len(anchors)):\n",
    "                                        anchor = anchors[i]\n",
    "                                        iou    = bbox_iou(shifted_box, anchor)\n",
    "\n",
    "                                        if max_iou < iou:\n",
    "                                            best_anchor = i\n",
    "                                            max_iou     = iou\n",
    "\n",
    "                                    # assign ground truth x, y, w, h, confidence and class probs to y_batch\n",
    "                                    if anc_box==True:\n",
    "                                      y_batch[instance_count, grid_y, grid_x, best_anchor,0:4] = box\n",
    "                                      y_batch[instance_count, grid_y, grid_x, best_anchor,4  ] = 1.\n",
    "                                      y_batch[instance_count, grid_y, grid_x, best_anchor,5+obj_indx] = 1\n",
    "                                    else :\n",
    "                                      y_batch[instance_count, grid_y, grid_x,0:4] = box\n",
    "                                      y_batch[instance_count, grid_y, grid_x,4  ] = 1.\n",
    "                                      y_batch[instance_count, grid_y, grid_x,5+obj_indx] = 1\n",
    "\n",
    "                                    # assign the true box to b_batch\n",
    "                                    #b_batch[instance_count, 0, 0, 0, true_box_index] = box#Change: Hasib\n",
    "\n",
    "                                    #true_box_index += 1\n",
    "                                    #true_box_index = true_box_index % self.config['TRUE_BOX_BUFFER']\n",
    "\n",
    "                        # assign input image to x_batch\n",
    "                        x_batch[instance_count] = img/255\n",
    "\n",
    "                        # increase instance counter in current batch\n",
    "                        instance_count += 1  \n",
    "\n",
    "                        #print(' new batch created', idx)\n",
    "                yield (x_batch, y_batch)\n",
    "\n",
    "import csv\n",
    "\n",
    "def read_data(dataset):\n",
    "  f=open(dataset+'/label.csv')\n",
    "  file=csv.reader(f,delimiter=',')\n",
    "  data=[]\n",
    "  i=0\n",
    "  sc=416.0\n",
    "  for line in file:\n",
    "      dt=line\n",
    "      H=dt[0]\n",
    "      W=dt[1]\n",
    "      xmin=(float(dt[2]))/sc\n",
    "      ymin=(float(dt[3]))/sc\n",
    "      xmax=(float(dt[4]))/sc\n",
    "      ymax=(float(dt[5]))/sc\n",
    "\n",
    "      output={\n",
    "          'filename':dataset+'/images/'+str(i)+'.jpg',\n",
    "          'height':H,\n",
    "          'width':W,\n",
    "          'object':[{'name':'None',\n",
    "          'xmin':xmin*IMAGE_W,\n",
    "          'ymin':ymin*IMAGE_H,\n",
    "          'xmax':xmax*IMAGE_W,\n",
    "          'ymax':ymax*IMAGE_H}]\n",
    "          }\n",
    "\n",
    "      data.append(output)\n",
    "      i=i+1\n",
    "  return data\n",
    "\n"
   ]
  },
  {
   "cell_type": "code",
   "execution_count": 5,
   "metadata": {
    "colab": {},
    "colab_type": "code",
    "id": "s-sSJbnsw8Vu"
   },
   "outputs": [],
   "source": [
    "\n",
    "if colab_run==True :data_dir='/content/drive/My Drive/CNN_Basic/'\n",
    "else: data_dir=''\n",
    "from xml.etree import ElementTree as ET\n",
    "\n",
    "def read_content(xml_file: str):\n",
    "    objs=[]\n",
    "    tree = ET.parse(xml_file)\n",
    "    root = tree.getroot()\n",
    "\n",
    "    list_with_all_boxes = []\n",
    "    filename = root.find('filename').text\n",
    "    size=root.find('size')\n",
    "    img_h=int(size.find('height').text)\n",
    "    img_w=int(size.find('width').text)\n",
    "    print(img_h)\n",
    "    for boxes in root.iter('object'):\n",
    "        \n",
    "        name = boxes.find('name').text\n",
    "        ymin, xmin, ymax, xmax = None, None, None, None\n",
    "        \n",
    "        for box in boxes.findall(\"bndbox\"):\n",
    "            ymin = int(box.find(\"ymin\").text)\n",
    "            xmin = int(box.find(\"xmin\").text)\n",
    "            ymax = int(box.find(\"ymax\").text)\n",
    "            xmax = int(box.find(\"xmax\").text)\n",
    "        wf=IMAGE_W/img_w\n",
    "        hf=IMAGE_H/img_h\n",
    "        obj={'name':name,\n",
    "          'xmin':xmin*wf,\n",
    "          'ymin':ymin*hf,\n",
    "          'xmax':xmax*wf,\n",
    "          'ymax':ymax*hf}\n",
    "        objs.append(obj)\n",
    "        \n",
    "    out={\n",
    "          'filename':data_dir+'VOC_Images/'+filename,\n",
    "          'height':img_h,\n",
    "          'width':img_w,\n",
    "          'object':objs\n",
    "    }\n",
    "        \n",
    "    return filename, list_with_all_boxes,out\n",
    "  \n",
    "import glob\n",
    "import cv2\n",
    "import pandas as pd\n",
    "save=False\n",
    "if save==True:\n",
    "  fnames=[]\n",
    "  all_data=[]\n",
    "  i=0\n",
    "  \n",
    "  for file in glob.glob(data_dir+'Annotations/*'):\n",
    "    i+=1\n",
    "    print(i)\n",
    "    _,_,obj=read_content(file)\n",
    "    #print(data)\n",
    "    #break\n",
    "    #fname, boxes, objs = read_content(file)\n",
    "    #fnames.append(fname)\n",
    "    all_data.append(obj)\n",
    " \n",
    "  #df=pd.DataFrame([fnames,obj_list],index=['fname','objs']).transpose()\n",
    "  #df=df.sample(frac=1,random_state=10).reset_index(drop=True)\n",
    "  #n=len(df)\n",
    "  #split=int(0.8*n)\n",
    "  #train_data=df.loc[:split]\n",
    "  #val_data=df.loc[split:].reset_index(drop=True)\n",
    "  import pickle\n",
    "  f=open(data_dir+'_VOC_dfs','wb')\n",
    "  pickle.dump(all_data,f)\n",
    "  f.close()\n",
    "import pickle\n",
    "f=open(data_dir+'_VOC_dfs','rb')\n",
    "all_data=pickle.load(f)\n",
    "f.close()"
   ]
  },
  {
   "cell_type": "code",
   "execution_count": 6,
   "metadata": {},
   "outputs": [
    {
     "name": "stdout",
     "output_type": "stream",
     "text": [
      "65\n"
     ]
    }
   ],
   "source": [
    "count=0\n",
    "for i in range(400):\n",
    "    nm=all_data[i]['object'][0]['name']\n",
    "    if nm=='person':\n",
    "        count+=1\n",
    "    #print(nm)\n",
    "print(count)"
   ]
  },
  {
   "cell_type": "code",
   "execution_count": 7,
   "metadata": {},
   "outputs": [
    {
     "data": {
      "text/plain": [
       "(5011, 4008, 1002)"
      ]
     },
     "execution_count": 7,
     "metadata": {},
     "output_type": "execute_result"
    }
   ],
   "source": [
    "N=len(all_data)\n",
    "n_train=int(N*0.8)\n",
    "n_valid=int(N*0.2)\n",
    "N,n_train,n_valid"
   ]
  },
  {
   "cell_type": "markdown",
   "metadata": {
    "colab_type": "text",
    "id": "LSzzHNCSbIPy"
   },
   "source": [
    "### Train Block"
   ]
  },
  {
   "cell_type": "code",
   "execution_count": 8,
   "metadata": {},
   "outputs": [],
   "source": [
    "lr=1e-5\n",
    "epochs=40"
   ]
  },
  {
   "cell_type": "code",
   "execution_count": 9,
   "metadata": {
    "colab": {},
    "colab_type": "code",
    "id": "xz2kN4COaIVh"
   },
   "outputs": [],
   "source": [
    "def train_model(model):\n",
    "  optimizer = Adam(lr=lr, beta_1=0.9, beta_2=0.999, epsilon=1e-08, decay=0.0)\n",
    "\t#optimizer = SGD(lr=1e-4, decay=0.0005, momentum=0.9)\n",
    "\t#optimizer = RMSprop(lr=1e-4, rho=0.9, epsilon=1e-08, decay=0.0)\n",
    "  model.compile(loss=yolo_loss_1, optimizer=optimizer,metrics=['accuracy'])\n",
    "  if anc_box==True:\n",
    "    model.compile(loss=custom_loss, optimizer=optimizer,metrics=['accuracy'])\n",
    "  history=model.fit_generator(train_batch,steps_per_epoch=no_of_tr_batch,epochs=epochs,validation_data=valid_batch,validation_steps=no_of_val_batch)\n",
    "\t#history=model.fit_generator(generator= train_batch, \n",
    "\t\t\t\t\t\t#steps_per_epoch  = len(train_batch), \n",
    "\t\t\t\t\t\t#epochs           = 60, \n",
    "\t\t\t\t\t\t#verbose          = 1,\n",
    "\t\t\t\t\t\t#validation_data  = valid_batch,\n",
    "\t\t\t\t\t\t#validation_steps = len(valid_batch),\n",
    "\t\t\t\t\t\t#callbacks        = [early_stop], \n",
    "\t\t\t\t\t\t#max_queue_size   = 3)\n",
    "  plt.plot(history.history['acc'])\n",
    "  plt.plot(history.history['loss'])\n",
    "  plt.title('model accuracy')\n",
    "  plt.ylabel('accuracy')\n",
    "  plt.xlabel('epoch')\n",
    "  plt.legend(['train', 'test'], loc='upper left')\n",
    "  plt.show()\n",
    "\n",
    "  # summarize history for loss\n",
    "  plt.plot(history.history['loss'])\n",
    "  plt.plot(history.history['val_loss'])\n",
    "  plt.title('model loss')\n",
    "  plt.ylabel('loss')\n",
    "  plt.xlabel('epoch')\n",
    "  plt.legend(['train', 'test'], loc='upper left')\n",
    "  plt.show()\n",
    "  return model\n"
   ]
  },
  {
   "cell_type": "code",
   "execution_count": 10,
   "metadata": {
    "colab": {
     "base_uri": "https://localhost:8080/",
     "height": 1000
    },
    "colab_type": "code",
    "executionInfo": {
     "elapsed": 14023,
     "status": "ok",
     "timestamp": 1562823140352,
     "user": {
      "displayName": "irfan hasib",
      "photoUrl": "https://lh4.googleusercontent.com/-6rVnRThUoWk/AAAAAAAAAAI/AAAAAAAADsk/X6dBOaUVMS4/s64/photo.jpg",
      "userId": "16061096143782894681"
     },
     "user_tz": -360
    },
    "id": "Md5yqGs0ZURg",
    "outputId": "18fb074f-7747-4ce8-8e49-f97736631dda",
    "scrolled": true
   },
   "outputs": [
    {
     "name": "stdout",
     "output_type": "stream",
     "text": [
      "__________________________________________________________________________________________________\n",
      "Layer (type)                    Output Shape         Param #     Connected to                     \n",
      "==================================================================================================\n",
      "input_1 (InputLayer)            (None, 416, 416, 3)  0                                            \n",
      "__________________________________________________________________________________________________\n",
      "conv_1 (Conv2D)                 (None, 416, 416, 32) 864         input_1[0][0]                    \n",
      "__________________________________________________________________________________________________\n",
      "norm_1 (BatchNormalization)     (None, 416, 416, 32) 128         conv_1[0][0]                     \n",
      "__________________________________________________________________________________________________\n",
      "leaky_re_lu (LeakyReLU)         (None, 416, 416, 32) 0           norm_1[0][0]                     \n",
      "__________________________________________________________________________________________________\n",
      "max_pooling2d (MaxPooling2D)    (None, 208, 208, 32) 0           leaky_re_lu[0][0]                \n",
      "__________________________________________________________________________________________________\n",
      "conv_2 (Conv2D)                 (None, 208, 208, 64) 18432       max_pooling2d[0][0]              \n",
      "__________________________________________________________________________________________________\n",
      "norm_2 (BatchNormalization)     (None, 208, 208, 64) 256         conv_2[0][0]                     \n",
      "__________________________________________________________________________________________________\n",
      "leaky_re_lu_1 (LeakyReLU)       (None, 208, 208, 64) 0           norm_2[0][0]                     \n",
      "__________________________________________________________________________________________________\n",
      "max_pooling2d_1 (MaxPooling2D)  (None, 104, 104, 64) 0           leaky_re_lu_1[0][0]              \n",
      "__________________________________________________________________________________________________\n",
      "conv_3 (Conv2D)                 (None, 104, 104, 128 73728       max_pooling2d_1[0][0]            \n",
      "__________________________________________________________________________________________________\n",
      "norm_3 (BatchNormalization)     (None, 104, 104, 128 512         conv_3[0][0]                     \n",
      "__________________________________________________________________________________________________\n",
      "leaky_re_lu_2 (LeakyReLU)       (None, 104, 104, 128 0           norm_3[0][0]                     \n",
      "__________________________________________________________________________________________________\n",
      "conv_4 (Conv2D)                 (None, 104, 104, 64) 8192        leaky_re_lu_2[0][0]              \n",
      "__________________________________________________________________________________________________\n",
      "norm_4 (BatchNormalization)     (None, 104, 104, 64) 256         conv_4[0][0]                     \n",
      "__________________________________________________________________________________________________\n",
      "leaky_re_lu_3 (LeakyReLU)       (None, 104, 104, 64) 0           norm_4[0][0]                     \n",
      "__________________________________________________________________________________________________\n",
      "conv_5 (Conv2D)                 (None, 104, 104, 128 73728       leaky_re_lu_3[0][0]              \n",
      "__________________________________________________________________________________________________\n",
      "norm_5 (BatchNormalization)     (None, 104, 104, 128 512         conv_5[0][0]                     \n",
      "__________________________________________________________________________________________________\n",
      "leaky_re_lu_4 (LeakyReLU)       (None, 104, 104, 128 0           norm_5[0][0]                     \n",
      "__________________________________________________________________________________________________\n",
      "max_pooling2d_2 (MaxPooling2D)  (None, 52, 52, 128)  0           leaky_re_lu_4[0][0]              \n",
      "__________________________________________________________________________________________________\n",
      "conv_6 (Conv2D)                 (None, 52, 52, 256)  294912      max_pooling2d_2[0][0]            \n",
      "__________________________________________________________________________________________________\n",
      "norm_6 (BatchNormalization)     (None, 52, 52, 256)  1024        conv_6[0][0]                     \n",
      "__________________________________________________________________________________________________\n",
      "leaky_re_lu_5 (LeakyReLU)       (None, 52, 52, 256)  0           norm_6[0][0]                     \n",
      "__________________________________________________________________________________________________\n",
      "conv_7 (Conv2D)                 (None, 52, 52, 128)  32768       leaky_re_lu_5[0][0]              \n",
      "__________________________________________________________________________________________________\n",
      "norm_7 (BatchNormalization)     (None, 52, 52, 128)  512         conv_7[0][0]                     \n",
      "__________________________________________________________________________________________________\n",
      "leaky_re_lu_6 (LeakyReLU)       (None, 52, 52, 128)  0           norm_7[0][0]                     \n",
      "__________________________________________________________________________________________________\n",
      "conv_8 (Conv2D)                 (None, 52, 52, 256)  294912      leaky_re_lu_6[0][0]              \n",
      "__________________________________________________________________________________________________\n",
      "norm_8 (BatchNormalization)     (None, 52, 52, 256)  1024        conv_8[0][0]                     \n",
      "__________________________________________________________________________________________________\n",
      "leaky_re_lu_7 (LeakyReLU)       (None, 52, 52, 256)  0           norm_8[0][0]                     \n",
      "__________________________________________________________________________________________________\n",
      "max_pooling2d_3 (MaxPooling2D)  (None, 26, 26, 256)  0           leaky_re_lu_7[0][0]              \n",
      "__________________________________________________________________________________________________\n",
      "conv_9 (Conv2D)                 (None, 26, 26, 512)  1179648     max_pooling2d_3[0][0]            \n",
      "__________________________________________________________________________________________________\n",
      "norm_9 (BatchNormalization)     (None, 26, 26, 512)  2048        conv_9[0][0]                     \n",
      "__________________________________________________________________________________________________\n",
      "leaky_re_lu_8 (LeakyReLU)       (None, 26, 26, 512)  0           norm_9[0][0]                     \n",
      "__________________________________________________________________________________________________\n",
      "conv_10 (Conv2D)                (None, 26, 26, 256)  131072      leaky_re_lu_8[0][0]              \n",
      "__________________________________________________________________________________________________\n",
      "norm_10 (BatchNormalization)    (None, 26, 26, 256)  1024        conv_10[0][0]                    \n",
      "__________________________________________________________________________________________________\n",
      "leaky_re_lu_9 (LeakyReLU)       (None, 26, 26, 256)  0           norm_10[0][0]                    \n",
      "__________________________________________________________________________________________________\n",
      "conv_11 (Conv2D)                (None, 26, 26, 512)  1179648     leaky_re_lu_9[0][0]              \n",
      "__________________________________________________________________________________________________\n",
      "norm_11 (BatchNormalization)    (None, 26, 26, 512)  2048        conv_11[0][0]                    \n",
      "__________________________________________________________________________________________________\n",
      "leaky_re_lu_10 (LeakyReLU)      (None, 26, 26, 512)  0           norm_11[0][0]                    \n",
      "__________________________________________________________________________________________________\n",
      "conv_12 (Conv2D)                (None, 26, 26, 256)  131072      leaky_re_lu_10[0][0]             \n",
      "__________________________________________________________________________________________________\n",
      "norm_12 (BatchNormalization)    (None, 26, 26, 256)  1024        conv_12[0][0]                    \n",
      "__________________________________________________________________________________________________\n",
      "leaky_re_lu_11 (LeakyReLU)      (None, 26, 26, 256)  0           norm_12[0][0]                    \n",
      "__________________________________________________________________________________________________\n",
      "conv_13 (Conv2D)                (None, 26, 26, 512)  1179648     leaky_re_lu_11[0][0]             \n",
      "__________________________________________________________________________________________________\n",
      "norm_13 (BatchNormalization)    (None, 26, 26, 512)  2048        conv_13[0][0]                    \n",
      "__________________________________________________________________________________________________\n",
      "leaky_re_lu_12 (LeakyReLU)      (None, 26, 26, 512)  0           norm_13[0][0]                    \n",
      "__________________________________________________________________________________________________\n",
      "max_pooling2d_4 (MaxPooling2D)  (None, 13, 13, 512)  0           leaky_re_lu_12[0][0]             \n",
      "__________________________________________________________________________________________________\n",
      "conv_14 (Conv2D)                (None, 13, 13, 1024) 4718592     max_pooling2d_4[0][0]            \n",
      "__________________________________________________________________________________________________\n",
      "norm_14 (BatchNormalization)    (None, 13, 13, 1024) 4096        conv_14[0][0]                    \n",
      "__________________________________________________________________________________________________\n",
      "leaky_re_lu_13 (LeakyReLU)      (None, 13, 13, 1024) 0           norm_14[0][0]                    \n",
      "__________________________________________________________________________________________________\n",
      "conv_15 (Conv2D)                (None, 13, 13, 512)  524288      leaky_re_lu_13[0][0]             \n",
      "__________________________________________________________________________________________________\n",
      "norm_15 (BatchNormalization)    (None, 13, 13, 512)  2048        conv_15[0][0]                    \n",
      "__________________________________________________________________________________________________\n",
      "leaky_re_lu_14 (LeakyReLU)      (None, 13, 13, 512)  0           norm_15[0][0]                    \n",
      "__________________________________________________________________________________________________\n",
      "conv_16 (Conv2D)                (None, 13, 13, 1024) 4718592     leaky_re_lu_14[0][0]             \n",
      "__________________________________________________________________________________________________\n",
      "norm_16 (BatchNormalization)    (None, 13, 13, 1024) 4096        conv_16[0][0]                    \n",
      "__________________________________________________________________________________________________\n",
      "leaky_re_lu_15 (LeakyReLU)      (None, 13, 13, 1024) 0           norm_16[0][0]                    \n",
      "__________________________________________________________________________________________________\n",
      "conv_17 (Conv2D)                (None, 13, 13, 512)  524288      leaky_re_lu_15[0][0]             \n",
      "__________________________________________________________________________________________________\n",
      "norm_17 (BatchNormalization)    (None, 13, 13, 512)  2048        conv_17[0][0]                    \n",
      "__________________________________________________________________________________________________\n",
      "leaky_re_lu_16 (LeakyReLU)      (None, 13, 13, 512)  0           norm_17[0][0]                    \n",
      "__________________________________________________________________________________________________\n",
      "conv_18 (Conv2D)                (None, 13, 13, 1024) 4718592     leaky_re_lu_16[0][0]             \n",
      "__________________________________________________________________________________________________\n",
      "norm_18 (BatchNormalization)    (None, 13, 13, 1024) 4096        conv_18[0][0]                    \n",
      "__________________________________________________________________________________________________\n",
      "leaky_re_lu_17 (LeakyReLU)      (None, 13, 13, 1024) 0           norm_18[0][0]                    \n",
      "__________________________________________________________________________________________________\n",
      "conv_19 (Conv2D)                (None, 13, 13, 1024) 9437184     leaky_re_lu_17[0][0]             \n",
      "__________________________________________________________________________________________________\n",
      "norm_19 (BatchNormalization)    (None, 13, 13, 1024) 4096        conv_19[0][0]                    \n",
      "__________________________________________________________________________________________________\n",
      "conv_21 (Conv2D)                (None, 26, 26, 64)   32768       leaky_re_lu_12[0][0]             \n",
      "__________________________________________________________________________________________________\n",
      "leaky_re_lu_18 (LeakyReLU)      (None, 13, 13, 1024) 0           norm_19[0][0]                    \n",
      "__________________________________________________________________________________________________\n",
      "norm_21 (BatchNormalization)    (None, 26, 26, 64)   256         conv_21[0][0]                    \n",
      "__________________________________________________________________________________________________\n",
      "conv_20 (Conv2D)                (None, 13, 13, 1024) 9437184     leaky_re_lu_18[0][0]             \n",
      "__________________________________________________________________________________________________\n",
      "leaky_re_lu_20 (LeakyReLU)      (None, 26, 26, 64)   0           norm_21[0][0]                    \n",
      "__________________________________________________________________________________________________\n",
      "norm_20 (BatchNormalization)    (None, 13, 13, 1024) 4096        conv_20[0][0]                    \n",
      "__________________________________________________________________________________________________\n",
      "lambda (Lambda)                 (None, 13, 13, 256)  0           leaky_re_lu_20[0][0]             \n",
      "__________________________________________________________________________________________________\n",
      "leaky_re_lu_19 (LeakyReLU)      (None, 13, 13, 1024) 0           norm_20[0][0]                    \n",
      "__________________________________________________________________________________________________\n",
      "concatenate (Concatenate)       (None, 13, 13, 1280) 0           lambda[0][0]                     \n",
      "                                                                 leaky_re_lu_19[0][0]             \n",
      "__________________________________________________________________________________________________\n",
      "conv_22 (Conv2D)                (None, 13, 13, 1024) 11796480    concatenate[0][0]                \n",
      "__________________________________________________________________________________________________\n",
      "norm_22 (BatchNormalization)    (None, 13, 13, 1024) 4096        conv_22[0][0]                    \n",
      "__________________________________________________________________________________________________\n",
      "leaky_re_lu_21 (LeakyReLU)      (None, 13, 13, 1024) 0           norm_22[0][0]                    \n",
      "__________________________________________________________________________________________________\n",
      "conv_23 (Conv2D)                (None, 13, 13, 25)   25625       leaky_re_lu_21[0][0]             \n",
      "__________________________________________________________________________________________________\n",
      "reshape (Reshape)               (None, 13, 13, 25)   0           conv_23[0][0]                    \n",
      "==================================================================================================\n",
      "Total params: 50,573,561\n",
      "Trainable params: 50,552,889\n",
      "Non-trainable params: 20,672\n",
      "__________________________________________________________________________________________________\n"
     ]
    }
   ],
   "source": [
    "import numpy as np\n",
    "#root='/content/drive/My Drive/Data/'\n",
    "root='D:/'\n",
    "path_wts=root+'yolo.weights'\n",
    "path_wts_final=root+'yolo_minimal_anc_500.h5'\n",
    "#path_data=root+'np_500'\n",
    "#path_pred=root+'/np_500/images/'\n",
    "  \n",
    "if train==True:\n",
    "  #data=read_data(path_data)\n",
    "  \n",
    "  train_imgs=all_data[:n_train]\n",
    "  valid_imgs=all_data[n_train:]\n",
    "  train_batch=[]\n",
    "  valid_batch=[]\n",
    "  no_of_tr_batch=int(np.ceil(n_train/batch_size))\n",
    "  train_batch=Batch_Gen(train_imgs,no_of_tr_batch)\n",
    "  no_of_val_batch=int(np.ceil(n_valid/batch_size))\n",
    "  valid_batch=Batch_Gen(valid_imgs,no_of_val_batch)\n",
    "model=build_model()\n",
    "model.summary()"
   ]
  },
  {
   "cell_type": "code",
   "execution_count": 11,
   "metadata": {},
   "outputs": [],
   "source": [
    "sampleX,sampleY=next(train_batch)"
   ]
  },
  {
   "cell_type": "code",
   "execution_count": 12,
   "metadata": {},
   "outputs": [
    {
     "data": {
      "image/png": "[encoded data removed]",
      "text/plain": [
       "<Figure size 432x288 with 1 Axes>"
      ]
     },
     "metadata": {
      "needs_background": "light"
     },
     "output_type": "display_data"
    },
    {
     "data": {
      "image/png": "[encoded data removed]",
      "text/plain": [
       "<Figure size 432x288 with 1 Axes>"
      ]
     },
     "metadata": {
      "needs_background": "light"
     },
     "output_type": "display_data"
    }
   ],
   "source": [
    "plt.imshow(sampleX[3])\n",
    "plt.show()\n",
    "img=sampleY[3][...,11+5]\n",
    "plt.imshow(img)\n",
    "plt.show()"
   ]
  },
  {
   "cell_type": "code",
   "execution_count": 13,
   "metadata": {},
   "outputs": [
    {
     "name": "stdout",
     "output_type": "stream",
     "text": [
      "index 0\n"
     ]
    },
    {
     "data": {
      "image/png": "[encoded data removed]",
      "text/plain": [
       "<Figure size 432x288 with 1 Axes>"
      ]
     },
     "metadata": {
      "needs_background": "light"
     },
     "output_type": "display_data"
    },
    {
     "name": "stdout",
     "output_type": "stream",
     "text": [
      "index 1\n"
     ]
    },
    {
     "data": {
      "image/png": "[encoded data removed]",
      "text/plain": [
       "<Figure size 432x288 with 1 Axes>"
      ]
     },
     "metadata": {
      "needs_background": "light"
     },
     "output_type": "display_data"
    },
    {
     "name": "stdout",
     "output_type": "stream",
     "text": [
      "index 2\n"
     ]
    },
    {
     "data": {
      "image/png": "[encoded data removed]",
      "text/plain": [
       "<Figure size 432x288 with 1 Axes>"
      ]
     },
     "metadata": {
      "needs_background": "light"
     },
     "output_type": "display_data"
    },
    {
     "name": "stdout",
     "output_type": "stream",
     "text": [
      "index 3\n"
     ]
    },
    {
     "data": {
      "image/png": "[encoded data removed]",
      "text/plain": [
       "<Figure size 432x288 with 1 Axes>"
      ]
     },
     "metadata": {
      "needs_background": "light"
     },
     "output_type": "display_data"
    },
    {
     "name": "stdout",
     "output_type": "stream",
     "text": [
      "index 4\n"
     ]
    },
    {
     "data": {
      "image/png": "[encoded data removed]",
      "text/plain": [
       "<Figure size 432x288 with 1 Axes>"
      ]
     },
     "metadata": {
      "needs_background": "light"
     },
     "output_type": "display_data"
    },
    {
     "name": "stdout",
     "output_type": "stream",
     "text": [
      "index 5\n"
     ]
    },
    {
     "data": {
      "image/png": "[encoded data removed]",
      "text/plain": [
       "<Figure size 432x288 with 1 Axes>"
      ]
     },
     "metadata": {
      "needs_background": "light"
     },
     "output_type": "display_data"
    },
    {
     "name": "stdout",
     "output_type": "stream",
     "text": [
      "index 6\n"
     ]
    },
    {
     "data": {
      "image/png": "[encoded data removed]",
      "text/plain": [
       "<Figure size 432x288 with 1 Axes>"
      ]
     },
     "metadata": {
      "needs_background": "light"
     },
     "output_type": "display_data"
    },
    {
     "name": "stdout",
     "output_type": "stream",
     "text": [
      "index 7\n"
     ]
    },
    {
     "data": {
      "image/png": "[encoded data removed]",
      "text/plain": [
       "<Figure size 432x288 with 1 Axes>"
      ]
     },
     "metadata": {
      "needs_background": "light"
     },
     "output_type": "display_data"
    },
    {
     "name": "stdout",
     "output_type": "stream",
     "text": [
      "index 8\n"
     ]
    },
    {
     "data": {
      "image/png": "[encoded data removed]",
      "text/plain": [
       "<Figure size 432x288 with 1 Axes>"
      ]
     },
     "metadata": {
      "needs_background": "light"
     },
     "output_type": "display_data"
    },
    {
     "name": "stdout",
     "output_type": "stream",
     "text": [
      "index 9\n"
     ]
    },
    {
     "data": {
      "image/png": "[encoded data removed]",
      "text/plain": [
       "<Figure size 432x288 with 1 Axes>"
      ]
     },
     "metadata": {
      "needs_background": "light"
     },
     "output_type": "display_data"
    },
    {
     "name": "stdout",
     "output_type": "stream",
     "text": [
      "index 10\n"
     ]
    },
    {
     "data": {
      "image/png": "[encoded data removed]",
      "text/plain": [
       "<Figure size 432x288 with 1 Axes>"
      ]
     },
     "metadata": {
      "needs_background": "light"
     },
     "output_type": "display_data"
    },
    {
     "name": "stdout",
     "output_type": "stream",
     "text": [
      "index 11\n"
     ]
    },
    {
     "data": {
      "image/png": "[encoded data removed]",
      "text/plain": [
       "<Figure size 432x288 with 1 Axes>"
      ]
     },
     "metadata": {
      "needs_background": "light"
     },
     "output_type": "display_data"
    },
    {
     "name": "stdout",
     "output_type": "stream",
     "text": [
      "index 12\n"
     ]
    },
    {
     "data": {
      "image/png": "[encoded data removed]",
      "text/plain": [
       "<Figure size 432x288 with 1 Axes>"
      ]
     },
     "metadata": {
      "needs_background": "light"
     },
     "output_type": "display_data"
    },
    {
     "name": "stdout",
     "output_type": "stream",
     "text": [
      "index 13\n"
     ]
    },
    {
     "data": {
      "image/png": "[encoded data removed]",
      "text/plain": [
       "<Figure size 432x288 with 1 Axes>"
      ]
     },
     "metadata": {
      "needs_background": "light"
     },
     "output_type": "display_data"
    },
    {
     "name": "stdout",
     "output_type": "stream",
     "text": [
      "index 14\n"
     ]
    },
    {
     "data": {
      "image/png": "[encoded data removed]",
      "text/plain": [
       "<Figure size 432x288 with 1 Axes>"
      ]
     },
     "metadata": {
      "needs_background": "light"
     },
     "output_type": "display_data"
    },
    {
     "name": "stdout",
     "output_type": "stream",
     "text": [
      "index 15\n"
     ]
    },
    {
     "data": {
      "image/png": "[encoded data removed]",
      "text/plain": [
       "<Figure size 432x288 with 1 Axes>"
      ]
     },
     "metadata": {
      "needs_background": "light"
     },
     "output_type": "display_data"
    },
    {
     "name": "stdout",
     "output_type": "stream",
     "text": [
      "index 16\n"
     ]
    },
    {
     "data": {
      "image/png": "[encoded data removed]",
      "text/plain": [
       "<Figure size 432x288 with 1 Axes>"
      ]
     },
     "metadata": {
      "needs_background": "light"
     },
     "output_type": "display_data"
    },
    {
     "name": "stdout",
     "output_type": "stream",
     "text": [
      "index 17\n"
     ]
    },
    {
     "data": {
      "image/png": "[encoded data removed]",
      "text/plain": [
       "<Figure size 432x288 with 1 Axes>"
      ]
     },
     "metadata": {
      "needs_background": "light"
     },
     "output_type": "display_data"
    },
    {
     "name": "stdout",
     "output_type": "stream",
     "text": [
      "index 18\n"
     ]
    },
    {
     "data": {
      "image/png": "[encoded data removed]",
      "text/plain": [
       "<Figure size 432x288 with 1 Axes>"
      ]
     },
     "metadata": {
      "needs_background": "light"
     },
     "output_type": "display_data"
    },
    {
     "name": "stdout",
     "output_type": "stream",
     "text": [
      "index 19\n"
     ]
    },
    {
     "data": {
      "image/png": "[encoded data removed]",
      "text/plain": [
       "<Figure size 432x288 with 1 Axes>"
      ]
     },
     "metadata": {
      "needs_background": "light"
     },
     "output_type": "display_data"
    },
    {
     "name": "stdout",
     "output_type": "stream",
     "text": [
      "index 20\n"
     ]
    },
    {
     "data": {
      "image/png": "[encoded data removed]",
      "text/plain": [
       "<Figure size 432x288 with 1 Axes>"
      ]
     },
     "metadata": {
      "needs_background": "light"
     },
     "output_type": "display_data"
    },
    {
     "name": "stdout",
     "output_type": "stream",
     "text": [
      "index 21\n"
     ]
    },
    {
     "data": {
      "image/png": "[encoded data removed]",
      "text/plain": [
       "<Figure size 432x288 with 1 Axes>"
      ]
     },
     "metadata": {
      "needs_background": "light"
     },
     "output_type": "display_data"
    },
    {
     "name": "stdout",
     "output_type": "stream",
     "text": [
      "index 22\n"
     ]
    },
    {
     "data": {
      "image/png": "[encoded data removed]",
      "text/plain": [
       "<Figure size 432x288 with 1 Axes>"
      ]
     },
     "metadata": {
      "needs_background": "light"
     },
     "output_type": "display_data"
    },
    {
     "name": "stdout",
     "output_type": "stream",
     "text": [
      "index 23\n"
     ]
    },
    {
     "data": {
      "image/png": "[encoded data removed]",
      "text/plain": [
       "<Figure size 432x288 with 1 Axes>"
      ]
     },
     "metadata": {
      "needs_background": "light"
     },
     "output_type": "display_data"
    },
    {
     "name": "stdout",
     "output_type": "stream",
     "text": [
      "index 24\n"
     ]
    },
    {
     "data": {
      "image/png": "[encoded data removed]",
      "text/plain": [
       "<Figure size 432x288 with 1 Axes>"
      ]
     },
     "metadata": {
      "needs_background": "light"
     },
     "output_type": "display_data"
    }
   ],
   "source": [
    "for i in range(0,25):\n",
    "    print('index',i)\n",
    "    plt.imshow(sampleY[3][...,i]*10)\n",
    "    plt.show()"
   ]
  },
  {
   "cell_type": "code",
   "execution_count": 14,
   "metadata": {
    "colab": {
     "base_uri": "https://localhost:8080/",
     "height": 1000
    },
    "colab_type": "code",
    "executionInfo": {
     "elapsed": 742998,
     "status": "ok",
     "timestamp": 1562823869375,
     "user": {
      "displayName": "irfan hasib",
      "photoUrl": "https://lh4.googleusercontent.com/-6rVnRThUoWk/AAAAAAAAAAI/AAAAAAAADsk/X6dBOaUVMS4/s64/photo.jpg",
      "userId": "16061096143782894681"
     },
     "user_tz": -360
    },
    "id": "DKBYfi42VnXe",
    "outputId": "afb1c882-3192-4bb0-db43-c68c9b9e2843"
   },
   "outputs": [
    {
     "name": "stdout",
     "output_type": "stream",
     "text": [
      "Epoch 1/40\n",
      "401/401 [==============================] - 53s 132ms/step - loss: 973.2180 - acc: 0.0525 - val_loss: 344.2416 - val_acc: 0.0454\n",
      "Epoch 2/40\n",
      "401/401 [==============================] - 50s 125ms/step - loss: 247.0822 - acc: 0.0325 - val_loss: 224.2881 - val_acc: 0.0352\n",
      "Epoch 3/40\n",
      "401/401 [==============================] - 50s 125ms/step - loss: 166.0199 - acc: 0.0253 - val_loss: 176.4777 - val_acc: 0.0288\n",
      "Epoch 4/40\n",
      "401/401 [==============================] - 50s 126ms/step - loss: 130.1611 - acc: 0.0217 - val_loss: 151.2751 - val_acc: 0.0250\n",
      "Epoch 5/40\n",
      "401/401 [==============================] - 51s 126ms/step - loss: 108.4447 - acc: 0.0195 - val_loss: 135.6829 - val_acc: 0.0224\n",
      "Epoch 6/40\n",
      "401/401 [==============================] - 51s 127ms/step - loss: 93.3237 - acc: 0.0178 - val_loss: 125.0781 - val_acc: 0.0203\n",
      "Epoch 7/40\n",
      "401/401 [==============================] - 51s 126ms/step - loss: 81.8809 - acc: 0.0165 - val_loss: 117.4080 - val_acc: 0.0188\n",
      "Epoch 8/40\n",
      "401/401 [==============================] - 51s 127ms/step - loss: 72.7457 - acc: 0.0156 - val_loss: 111.8528 - val_acc: 0.0173\n",
      "Epoch 9/40\n",
      "401/401 [==============================] - 51s 127ms/step - loss: 65.2160 - acc: 0.0149 - val_loss: 107.5186 - val_acc: 0.0163\n",
      "Epoch 10/40\n",
      "401/401 [==============================] - 51s 127ms/step - loss: 58.9192 - acc: 0.0142 - val_loss: 104.4504 - val_acc: 0.0151\n",
      "Epoch 11/40\n",
      "401/401 [==============================] - 51s 126ms/step - loss: 53.6191 - acc: 0.0139 - val_loss: 101.5265 - val_acc: 0.0150\n",
      "Epoch 12/40\n",
      "401/401 [==============================] - 50s 126ms/step - loss: 48.8185 - acc: 0.0133 - val_loss: 99.9632 - val_acc: 0.0143\n",
      "Epoch 13/40\n",
      "401/401 [==============================] - 51s 126ms/step - loss: 44.1049 - acc: 0.0130 - val_loss: 97.9549 - val_acc: 0.0140\n",
      "Epoch 14/40\n",
      "401/401 [==============================] - 50s 126ms/step - loss: 39.8873 - acc: 0.0126 - val_loss: 97.2003 - val_acc: 0.0138\n",
      "Epoch 15/40\n",
      "401/401 [==============================] - 50s 126ms/step - loss: 36.1515 - acc: 0.0125 - val_loss: 96.2014 - val_acc: 0.0133\n",
      "Epoch 16/40\n",
      "401/401 [==============================] - 50s 126ms/step - loss: 32.8031 - acc: 0.0124 - val_loss: 95.9220 - val_acc: 0.0135\n",
      "Epoch 17/40\n",
      "401/401 [==============================] - 51s 126ms/step - loss: 29.8184 - acc: 0.0123 - val_loss: 95.1530 - val_acc: 0.0128\n",
      "Epoch 18/40\n",
      "401/401 [==============================] - 51s 127ms/step - loss: 27.1946 - acc: 0.0122 - val_loss: 95.3562 - val_acc: 0.0133\n",
      "Epoch 19/40\n",
      "401/401 [==============================] - 51s 127ms/step - loss: 24.7395 - acc: 0.0122 - val_loss: 94.6429 - val_acc: 0.0123\n",
      "Epoch 20/40\n",
      "401/401 [==============================] - 51s 127ms/step - loss: 22.2843 - acc: 0.0121 - val_loss: 95.1182 - val_acc: 0.0130\n",
      "Epoch 21/40\n",
      "401/401 [==============================] - 51s 126ms/step - loss: 19.8715 - acc: 0.0119 - val_loss: 94.6591 - val_acc: 0.0118\n",
      "Epoch 22/40\n",
      "401/401 [==============================] - 51s 126ms/step - loss: 17.7239 - acc: 0.0119 - val_loss: 95.3146 - val_acc: 0.0125\n",
      "Epoch 23/40\n",
      "401/401 [==============================] - 51s 126ms/step - loss: 15.8328 - acc: 0.0118 - val_loss: 95.1440 - val_acc: 0.0114\n",
      "Epoch 24/40\n",
      "401/401 [==============================] - 51s 126ms/step - loss: 14.1961 - acc: 0.0119 - val_loss: 95.9251 - val_acc: 0.0119\n",
      "Epoch 25/40\n",
      "401/401 [==============================] - 51s 126ms/step - loss: 12.7256 - acc: 0.0118 - val_loss: 95.7635 - val_acc: 0.0112\n",
      "Epoch 26/40\n",
      "401/401 [==============================] - 51s 126ms/step - loss: 11.3456 - acc: 0.0117 - val_loss: 96.2357 - val_acc: 0.0112\n",
      "Epoch 27/40\n",
      "401/401 [==============================] - 51s 126ms/step - loss: 10.1000 - acc: 0.0117 - val_loss: 96.6028 - val_acc: 0.0105\n",
      "Epoch 28/40\n",
      "401/401 [==============================] - 51s 126ms/step - loss: 9.0128 - acc: 0.0116 - val_loss: 98.1870 - val_acc: 0.0109\n",
      "Epoch 29/40\n",
      "401/401 [==============================] - 51s 126ms/step - loss: 8.2224 - acc: 0.0115 - val_loss: 97.7730 - val_acc: 0.0099\n",
      "Epoch 30/40\n",
      "401/401 [==============================] - 51s 126ms/step - loss: 7.8052 - acc: 0.0116 - val_loss: 96.0015 - val_acc: 0.0103\n",
      "Epoch 31/40\n",
      "401/401 [==============================] - 51s 126ms/step - loss: 7.2652 - acc: 0.0115 - val_loss: 95.4470 - val_acc: 0.0105\n",
      "Epoch 32/40\n",
      "401/401 [==============================] - 51s 126ms/step - loss: 6.8215 - acc: 0.0115 - val_loss: 95.7038 - val_acc: 0.0115\n",
      "Epoch 33/40\n",
      "401/401 [==============================] - 51s 126ms/step - loss: 6.0325 - acc: 0.0113 - val_loss: 95.0198 - val_acc: 0.0113\n",
      "Epoch 34/40\n",
      "401/401 [==============================] - 51s 127ms/step - loss: 5.1132 - acc: 0.0113 - val_loss: 95.3794 - val_acc: 0.0118\n",
      "Epoch 35/40\n",
      "401/401 [==============================] - 51s 127ms/step - loss: 4.5364 - acc: 0.0112 - val_loss: 95.2526 - val_acc: 0.0114\n",
      "Epoch 36/40\n",
      "401/401 [==============================] - 51s 126ms/step - loss: 4.0041 - acc: 0.0112 - val_loss: 96.4069 - val_acc: 0.0122\n",
      "Epoch 37/40\n",
      "401/401 [==============================] - 51s 126ms/step - loss: 3.7415 - acc: 0.0111 - val_loss: 99.4178 - val_acc: 0.0115\n",
      "Epoch 38/40\n",
      "401/401 [==============================] - 51s 127ms/step - loss: 3.6301 - acc: 0.0112 - val_loss: 103.5241 - val_acc: 0.0138\n",
      "Epoch 39/40\n",
      "401/401 [==============================] - 51s 127ms/step - loss: 3.5448 - acc: 0.0111 - val_loss: 105.8852 - val_acc: 0.0123\n",
      "Epoch 40/40\n",
      "401/401 [==============================] - 51s 127ms/step - loss: 3.6152 - acc: 0.0111 - val_loss: 100.4320 - val_acc: 0.0134\n"
     ]
    },
    {
     "data": {
      "image/png": "[encoded data removed]",
      "text/plain": [
       "<Figure size 432x288 with 1 Axes>"
      ]
     },
     "metadata": {
      "needs_background": "light"
     },
     "output_type": "display_data"
    },
    {
     "data": {
      "image/png": "[encoded data removed]",
      "text/plain": [
       "<Figure size 432x288 with 1 Axes>"
      ]
     },
     "metadata": {
      "needs_background": "light"
     },
     "output_type": "display_data"
    }
   ],
   "source": [
    "if train==True:\n",
    "    model=load_weights(model,path_wts)\n",
    "    for layer in model.layers[:-5]:\n",
    "        layer.trainable=False\n",
    "    model=train_model(model)\n",
    "if train==False:\n",
    "    model.load_weights(path_wts_final)"
   ]
  },
  {
   "cell_type": "markdown",
   "metadata": {
    "colab_type": "text",
    "id": "6KMduvZAbNMY"
   },
   "source": [
    "### Predicion Block"
   ]
  },
  {
   "cell_type": "code",
   "execution_count": 65,
   "metadata": {
    "colab": {
     "base_uri": "https://localhost:8080/",
     "height": 1000,
     "output_embedded_package_id": "15upCTbggjjjGTtdZ00odt0VSTbBrTO0i"
    },
    "colab_type": "code",
    "executionInfo": {
     "elapsed": 16930,
     "status": "error",
     "timestamp": 1562824592673,
     "user": {
      "displayName": "irfan hasib",
      "photoUrl": "https://lh4.googleusercontent.com/-6rVnRThUoWk/AAAAAAAAAAI/AAAAAAAADsk/X6dBOaUVMS4/s64/photo.jpg",
      "userId": "16061096143782894681"
     },
     "user_tz": -360
    },
    "id": "S6ZO-9qLaNBN",
    "outputId": "70174882-7588-41e9-c56e-b6a95918e7b0",
    "scrolled": false
   },
   "outputs": [
    {
     "ename": "IndexError",
     "evalue": "tuple index out of range",
     "output_type": "error",
     "traceback": [
      "\u001b[1;31m---------------------------------------------------------------------------\u001b[0m",
      "\u001b[1;31mTypeError\u001b[0m                                 Traceback (most recent call last)",
      "\u001b[1;32m~\\Anaconda3\\envs\\tf\\lib\\site-packages\\numpy\\lib\\shape_base.py\u001b[0m in \u001b[0;36msplit\u001b[1;34m(ary, indices_or_sections, axis)\u001b[0m\n\u001b[0;32m    849\u001b[0m     \u001b[1;32mtry\u001b[0m\u001b[1;33m:\u001b[0m\u001b[1;33m\u001b[0m\u001b[1;33m\u001b[0m\u001b[0m\n\u001b[1;32m--> 850\u001b[1;33m         \u001b[0mlen\u001b[0m\u001b[1;33m(\u001b[0m\u001b[0mindices_or_sections\u001b[0m\u001b[1;33m)\u001b[0m\u001b[1;33m\u001b[0m\u001b[1;33m\u001b[0m\u001b[0m\n\u001b[0m\u001b[0;32m    851\u001b[0m     \u001b[1;32mexcept\u001b[0m \u001b[0mTypeError\u001b[0m\u001b[1;33m:\u001b[0m\u001b[1;33m\u001b[0m\u001b[1;33m\u001b[0m\u001b[0m\n",
      "\u001b[1;31mTypeError\u001b[0m: object of type 'int' has no len()",
      "\nDuring handling of the above exception, another exception occurred:\n",
      "\u001b[1;31mIndexError\u001b[0m                                Traceback (most recent call last)",
      "\u001b[1;32m<ipython-input-65-4c9339a02ca4>\u001b[0m in \u001b[0;36m<module>\u001b[1;34m\u001b[0m\n\u001b[0;32m    191\u001b[0m   \u001b[0mtrue_lb\u001b[0m\u001b[1;33m=\u001b[0m\u001b[1;33m[\u001b[0m\u001b[0mcx\u001b[0m\u001b[1;33m,\u001b[0m\u001b[0mcy\u001b[0m\u001b[1;33m,\u001b[0m\u001b[0miw\u001b[0m\u001b[1;33m,\u001b[0m\u001b[0mih\u001b[0m\u001b[1;33m]\u001b[0m\u001b[1;33m\u001b[0m\u001b[1;33m\u001b[0m\u001b[0m\n\u001b[0;32m    192\u001b[0m   \u001b[1;31m#err=np.sum(np.square(np.array(true_lb)-np.array(boxes[0][:4])*416))\u001b[0m\u001b[1;33m\u001b[0m\u001b[1;33m\u001b[0m\u001b[1;33m\u001b[0m\u001b[0m\n\u001b[1;32m--> 193\u001b[1;33m   \u001b[0merr\u001b[0m\u001b[1;33m=\u001b[0m\u001b[0mIOU\u001b[0m\u001b[1;33m(\u001b[0m\u001b[0mnp\u001b[0m\u001b[1;33m.\u001b[0m\u001b[0marray\u001b[0m\u001b[1;33m(\u001b[0m\u001b[0mtrue_lb\u001b[0m\u001b[1;33m)\u001b[0m\u001b[1;33m,\u001b[0m\u001b[0mnp\u001b[0m\u001b[1;33m.\u001b[0m\u001b[0marray\u001b[0m\u001b[1;33m(\u001b[0m\u001b[0mboxes\u001b[0m\u001b[1;33m[\u001b[0m\u001b[1;36m0\u001b[0m\u001b[1;33m]\u001b[0m\u001b[1;33m[\u001b[0m\u001b[1;33m:\u001b[0m\u001b[1;36m4\u001b[0m\u001b[1;33m]\u001b[0m\u001b[1;33m)\u001b[0m\u001b[1;33m)\u001b[0m\u001b[1;33m\u001b[0m\u001b[1;33m\u001b[0m\u001b[0m\n\u001b[0m\u001b[0;32m    194\u001b[0m   \u001b[1;31m#if err<100:\u001b[0m\u001b[1;33m\u001b[0m\u001b[1;33m\u001b[0m\u001b[1;33m\u001b[0m\u001b[0m\n\u001b[0;32m    195\u001b[0m   \u001b[1;31m#  error+=err\u001b[0m\u001b[1;33m\u001b[0m\u001b[1;33m\u001b[0m\u001b[1;33m\u001b[0m\u001b[0m\n",
      "\u001b[1;32m<ipython-input-31-691398e38134>\u001b[0m in \u001b[0;36mIOU\u001b[1;34m(bboxes1, bboxes2)\u001b[0m\n\u001b[0;32m      1\u001b[0m \u001b[1;32mdef\u001b[0m \u001b[0mIOU\u001b[0m\u001b[1;33m(\u001b[0m\u001b[0mbboxes1\u001b[0m\u001b[1;33m,\u001b[0m \u001b[0mbboxes2\u001b[0m\u001b[1;33m)\u001b[0m\u001b[1;33m:\u001b[0m\u001b[1;33m\u001b[0m\u001b[1;33m\u001b[0m\u001b[0m\n\u001b[1;32m----> 2\u001b[1;33m         \u001b[0mx11\u001b[0m\u001b[1;33m,\u001b[0m \u001b[0my11\u001b[0m\u001b[1;33m,\u001b[0m \u001b[0mx12\u001b[0m\u001b[1;33m,\u001b[0m \u001b[0my12\u001b[0m \u001b[1;33m=\u001b[0m \u001b[0mnp\u001b[0m\u001b[1;33m.\u001b[0m\u001b[0msplit\u001b[0m\u001b[1;33m(\u001b[0m\u001b[0mbboxes1\u001b[0m\u001b[1;33m,\u001b[0m \u001b[1;36m4\u001b[0m\u001b[1;33m,\u001b[0m \u001b[0maxis\u001b[0m\u001b[1;33m=\u001b[0m\u001b[1;36m1\u001b[0m\u001b[1;33m)\u001b[0m\u001b[1;33m\u001b[0m\u001b[1;33m\u001b[0m\u001b[0m\n\u001b[0m\u001b[0;32m      3\u001b[0m         \u001b[0mx21\u001b[0m\u001b[1;33m,\u001b[0m \u001b[0my21\u001b[0m\u001b[1;33m,\u001b[0m \u001b[0mx22\u001b[0m\u001b[1;33m,\u001b[0m \u001b[0my22\u001b[0m \u001b[1;33m=\u001b[0m \u001b[0mnp\u001b[0m\u001b[1;33m.\u001b[0m\u001b[0msplit\u001b[0m\u001b[1;33m(\u001b[0m\u001b[0mbboxes2\u001b[0m\u001b[1;33m,\u001b[0m \u001b[1;36m4\u001b[0m\u001b[1;33m,\u001b[0m \u001b[0maxis\u001b[0m\u001b[1;33m=\u001b[0m\u001b[1;36m1\u001b[0m\u001b[1;33m)\u001b[0m\u001b[1;33m\u001b[0m\u001b[1;33m\u001b[0m\u001b[0m\n\u001b[0;32m      4\u001b[0m         \u001b[0mxA\u001b[0m \u001b[1;33m=\u001b[0m \u001b[0mnp\u001b[0m\u001b[1;33m.\u001b[0m\u001b[0mmaximum\u001b[0m\u001b[1;33m(\u001b[0m\u001b[0mx11\u001b[0m\u001b[1;33m,\u001b[0m \u001b[0mnp\u001b[0m\u001b[1;33m.\u001b[0m\u001b[0mtranspose\u001b[0m\u001b[1;33m(\u001b[0m\u001b[0mx21\u001b[0m\u001b[1;33m)\u001b[0m\u001b[1;33m)\u001b[0m\u001b[1;33m\u001b[0m\u001b[1;33m\u001b[0m\u001b[0m\n\u001b[0;32m      5\u001b[0m         \u001b[0myA\u001b[0m \u001b[1;33m=\u001b[0m \u001b[0mnp\u001b[0m\u001b[1;33m.\u001b[0m\u001b[0mmaximum\u001b[0m\u001b[1;33m(\u001b[0m\u001b[0my11\u001b[0m\u001b[1;33m,\u001b[0m \u001b[0mnp\u001b[0m\u001b[1;33m.\u001b[0m\u001b[0mtranspose\u001b[0m\u001b[1;33m(\u001b[0m\u001b[0my21\u001b[0m\u001b[1;33m)\u001b[0m\u001b[1;33m)\u001b[0m\u001b[1;33m\u001b[0m\u001b[1;33m\u001b[0m\u001b[0m\n",
      "\u001b[1;32m<__array_function__ internals>\u001b[0m in \u001b[0;36msplit\u001b[1;34m(*args, **kwargs)\u001b[0m\n",
      "\u001b[1;32m~\\Anaconda3\\envs\\tf\\lib\\site-packages\\numpy\\lib\\shape_base.py\u001b[0m in \u001b[0;36msplit\u001b[1;34m(ary, indices_or_sections, axis)\u001b[0m\n\u001b[0;32m    851\u001b[0m     \u001b[1;32mexcept\u001b[0m \u001b[0mTypeError\u001b[0m\u001b[1;33m:\u001b[0m\u001b[1;33m\u001b[0m\u001b[1;33m\u001b[0m\u001b[0m\n\u001b[0;32m    852\u001b[0m         \u001b[0msections\u001b[0m \u001b[1;33m=\u001b[0m \u001b[0mindices_or_sections\u001b[0m\u001b[1;33m\u001b[0m\u001b[1;33m\u001b[0m\u001b[0m\n\u001b[1;32m--> 853\u001b[1;33m         \u001b[0mN\u001b[0m \u001b[1;33m=\u001b[0m \u001b[0mary\u001b[0m\u001b[1;33m.\u001b[0m\u001b[0mshape\u001b[0m\u001b[1;33m[\u001b[0m\u001b[0maxis\u001b[0m\u001b[1;33m]\u001b[0m\u001b[1;33m\u001b[0m\u001b[1;33m\u001b[0m\u001b[0m\n\u001b[0m\u001b[0;32m    854\u001b[0m         \u001b[1;32mif\u001b[0m \u001b[0mN\u001b[0m \u001b[1;33m%\u001b[0m \u001b[0msections\u001b[0m\u001b[1;33m:\u001b[0m\u001b[1;33m\u001b[0m\u001b[1;33m\u001b[0m\u001b[0m\n\u001b[0;32m    855\u001b[0m             raise ValueError(\n",
      "\u001b[1;31mIndexError\u001b[0m: tuple index out of range"
     ]
    }
   ],
   "source": [
    "def _softmax(x, axis=-1, t=-100.):\n",
    "    x = x - np.max(x)\n",
    "    \n",
    "    if np.min(x) < t:\n",
    "        x = x/np.min(x)*t\n",
    "        \n",
    "    e_x = np.exp(x)\n",
    "    \n",
    "    return e_x / e_x.sum(axis, keepdims=True)\n",
    "\n",
    "def _sigmoid(x):\n",
    "    return 1. / (1. + np.exp(-x))\n",
    "\n",
    "def decode_netout_anc(netout, anchors, nb_class, obj_threshold=0.3, nms_threshold=0.3):\n",
    "    #grid_h, grid_w, nb_box = netout.shape[:3]\n",
    "    grid_h, grid_w = netout.shape[:2]\n",
    "\n",
    "    boxes = []\n",
    "    \n",
    "    # decode the output by the network\n",
    "    netout[..., 4]  = _sigmoid(netout[..., 4])\n",
    "    netout[..., 5:] = netout[..., 4][..., np.newaxis] * _softmax(netout[..., 5:])\n",
    "    netout[..., 5:] *= netout[..., 5:] > obj_threshold\n",
    "    \n",
    "    for row in range(grid_h):\n",
    "        for col in range(grid_w):\n",
    "            for b in range(BOX):\n",
    "                # from 4th element onwards are confidence and class classes\n",
    "                classes = netout[row,col,b,5:]\n",
    "                #classes = netout[row,col,5:]\n",
    "                confidence = netout[row,col,b,4]\n",
    "                if np.sum(classes) > 0:\n",
    "                    # first 4 elements are x, y, w, and h\n",
    "                    #x, y, w, h = netout[row,col,b,:4]\n",
    "                    x, y, w, h = netout[row,col,b,:4]\n",
    "                    #print(col,_sigmoid(x-col),row,_sigmoid(y),w,h)\n",
    "                    x = (col + _sigmoid(x)) / grid_w # center position, unit: image width\n",
    "                    y = (row + _sigmoid(y)) / grid_h # center position, unit: image height\n",
    "                    w = ANCHORS[2 * b + 0] * np.exp(w) / grid_w # unit: image width\n",
    "                    h = ANCHORS[2 * b + 1] * np.exp(h) / grid_h # unit: image height\n",
    "                    #print(x,y,w,h)\n",
    "                    classes=np.argmax(classes)\n",
    "                    \n",
    "                    box = (x-w/2, y-h/2, x+w/2, y+h/2, confidence, classes)\n",
    "                    box = (x-w/2, y-h/2, x+w/2, y+h/2, confidence, classes)\n",
    "                    if abs(box[0])<=1 and abs(box[1])<=1 and box[2]<=1 and box[3]<=1 :\n",
    "                      if (box[0])>=0 and (box[1])>=0 and box[2]>=0 and box[3]>=0 :\n",
    "                        boxes.append(box)\n",
    "                    \n",
    "\n",
    "                      \n",
    "    indx=np.argsort([box[4] for box in boxes])\n",
    "    f_boxes=[]\n",
    "    #indx=reversed(indx)\n",
    "    if len(indx)>=3:\n",
    "      for i in range(1,2):\n",
    "        ind=indx[-1*i]\n",
    "        f_boxes.append(boxes[ind])\n",
    "    else:\n",
    "      f_boxes=boxes\n",
    "    return f_boxes    \n",
    "    \n",
    "def decode_netout_1(netout, anchors, nb_class, obj_threshold=0.3, nms_threshold=0.3):\n",
    "    #grid_h, grid_w, nb_box = netout.shape[:3]\n",
    "    grid_h, grid_w = netout.shape[:2]\n",
    "\n",
    "    boxes = []\n",
    "    \n",
    "    # decode the output by the network\n",
    "    netout[..., 4]  = _sigmoid(netout[..., 4])\n",
    "    netout[..., 5:] = netout[..., 4][..., np.newaxis] * _softmax(netout[..., 5:])\n",
    "    netout[..., 5:] *= netout[..., 5:] > obj_threshold\n",
    "    class_prob_log=[0]*CLASS\n",
    "    boxes=[(0,)*6]*CLASS\n",
    "    for row in range(grid_h):\n",
    "        for col in range(grid_w):\n",
    "            #for b in range(BOX):\n",
    "                # from 4th element onwards are confidence and class classes\n",
    "                classes = netout[row,col,5:]\n",
    "                #classes = netout[row,col,5:]\n",
    "                confidence = netout[row,col,4]\n",
    "                if np.sum(classes) > 0:\n",
    "                    # first 4 elements are x, y, w, and h\n",
    "                    #x, y, w, h = netout[row,col,b,:4]\n",
    "                    x, y, w, h = netout[row,col,:4]\n",
    "                    #print(col,_sigmoid(x-col),row,_sigmoid(y),w,h)\n",
    "                    w_ratio=(IMAGE_W/GRID_W)/IMAGE_W\n",
    "                    h_ratio=(IMAGE_W/GRID_W)/IMAGE_H\n",
    "                    x = (col+(x))*(h_ratio)#x*(32/416) # center position, unit: image width\n",
    "                    y = (row+(y))*(w_ratio)#y*(32/416) # center position, unit: image height\n",
    "                    w = w*(w_ratio) # unit: image width\n",
    "                    h = h*(h_ratio) # unit: image height\n",
    "                    #print(x,y,w,h)\n",
    "                    class_ind=np.argmax(classes)\n",
    "                    if class_prob_log[class_ind]< classes[class_ind]:       \n",
    "                        class_prob_log[class_ind]=classes[class_ind]\n",
    "                        box = (x-w/2, y-h/2, x+w/2, y+h/2, confidence, class_ind)\n",
    "                        if abs(box[0])<=1 and abs(box[1])<=1 and box[2]<=1 and box[3]<=1 :\n",
    "                              if (box[0])>=0 and (box[1])>=0 and box[2]>=0 and box[3]>=0 :\n",
    "                                                    #boxes.append(box)\n",
    "                                                    boxes[class_ind]=box\n",
    "\n",
    "                      \n",
    "    \n",
    "    indx=np.argsort([box[4] for box in boxes])\n",
    "    # remove the boxes which are less likely than a obj_threshold\n",
    "    #obj_threshold=0\n",
    "    #print(boxes)\n",
    "    #for box in boxes:\n",
    "    #  if box[4]>obj_threshold:\n",
    "    #      obj_threshold=box[4]\n",
    "    #boxes = [box for box in boxes if box[4] >= obj_threshold-0.1]\n",
    "    f_boxes=[]\n",
    "    #indx=reversed(indx)\n",
    "    if len(indx)>=3:\n",
    "      for i in range(1,4):\n",
    "        ind=indx[-1*i]\n",
    "        f_boxes.append(boxes[ind])\n",
    "    else:\n",
    "      f_boxes=boxes\n",
    "\n",
    "    return f_boxes    \n",
    "\n",
    "def draw_boxes_1(image, boxes, labels,t_lbl=None):\n",
    "    image_h, image_w, _ = image.shape\n",
    "\n",
    "    for box in boxes:\n",
    "        xmin = int(box[0]*image_w)\n",
    "        ymin = int(box[1]*image_h)\n",
    "        xmax = int(box[2]*image_w)\n",
    "        ymax = int(box[3]*image_h)\n",
    "        x_off=20\n",
    "        y_off=20\n",
    "        #print(xmin,ymin,xmax,ymax)\n",
    "        #print(box)\n",
    "        #cv2.rectangle(image, (xmin-x_off,ymin-y_off), (xmax+x_off,ymax+y_off), (255,0,0), 3)\n",
    "        cv2.rectangle(image, (xmin,ymin), (xmax,ymax), (0,255,0), 3)\n",
    "        #if t_lbl !=None:\n",
    "        #  cv2.rectangle(image, (t_lbl[0],t_lbl[1]), (t_lbl[2],t_lbl[3]), (0,0,255), 3)\n",
    "        cv2.putText(image, \n",
    "                    labels[box[5]] + ' ' + str(box[4]), \n",
    "                    (xmin, ymin - 13), \n",
    "                    cv2.FONT_HERSHEY_SIMPLEX, \n",
    "                    0.0015 * 400, \n",
    "                    (0,255,0), 2)\n",
    "        \n",
    "    return image\n",
    "\n",
    "\"\"\"# Perform detection on image\"\"\"\n",
    "error=0\n",
    "count=0\n",
    "import pandas as pd\n",
    "#lbls=pd.read_csv(path_data+'/label.csv',names=[0,1,2,3,4,5])\n",
    "#fig,axes=plt.subplots(nrows=1,ncols=3,figsize=(20,8))  \n",
    "for i in range(0,50):\n",
    "  count+=1\n",
    "  sample=valid_imgs[i]\n",
    "  image = cv2.imread(sample['filename'])\n",
    "  H_off=int(image.shape[0]*0.1)\n",
    "  W_off=int(image.shape[1]*0.1)\n",
    "  #image=image[H_off:-1*H_off,W_off:-1*W_off,:]\n",
    "  dummy_array = np.zeros((1,1,1,1,TRUE_BOX_BUFFER,4))\n",
    "\n",
    "  \n",
    "\n",
    "  input_image = cv2.resize(image, (416, 416))\n",
    "  input_image = input_image / 255.\n",
    "  input_image = input_image[:,:,::-1]\n",
    "  input_image = np.expand_dims(input_image, 0)\n",
    "\n",
    "  netout = model.predict(input_image)\n",
    "  #print(netout[0,:,:,0:2])\n",
    "\n",
    "\n",
    "  if anc_box==True:\n",
    "    boxes = decode_netout_anc(netout[0], \n",
    "                        obj_threshold=.60,\n",
    "                        nms_threshold=.90,\n",
    "                        anchors=ANCHORS, \n",
    "                        nb_class=CLASS)\n",
    "  else:\n",
    "    boxes = decode_netout_1(netout[0], \n",
    "                        obj_threshold=0.60,\n",
    "                        nms_threshold=0.90,\n",
    "                        anchors=ANCHORS, \n",
    "                        nb_class=CLASS)\n",
    "  \n",
    "  lbls=sample['object']\n",
    "  for lbl in lbls:\n",
    "      [name,xmin,ymin,xmax,ymax]=list(lbl.values())\n",
    "      true_lb[name]=np.array([xmin,ymin,xmax,ymax])\n",
    "  \n",
    "  cx,cy=int(0.5*(xmax+xmin)),int(0.5*(ymax+ymin))\n",
    "  iw,ih=int(xmax-xmin),int(ymax-ymin)\n",
    "  true_lb=[cx,cy,iw,ih]\n",
    "  LABELS(boxes[0][5])\n",
    "  err=IOU(np.array(true_lb),np.array(boxes[0][:4]))\n",
    "  #if err<100:\n",
    "  #  error+=err\n",
    "  #else:\n",
    "  #  error+=100\n",
    "  #boxex.appned(true_lb)\n",
    "  image = draw_boxes_1(image, boxes, LABELS,true_lb)\n",
    "  #plt.figure(figsize=(10,10))\n",
    "  print('row',i)\n",
    "  _image=cv2.resize(image,(200,200))\n",
    "  if i%3==0 :fig,axes=plt.subplots(nrows=1,ncols=3,figsize=(20,5))  \n",
    "  axes[i%3].imshow(_image[:,:,::-1])\n",
    "  if i%3==3-1 :plt.show()\n",
    "  print(err)\n",
    "print('mean error',error/count)"
   ]
  },
  {
   "cell_type": "code",
   "execution_count": 31,
   "metadata": {},
   "outputs": [],
   "source": [
    "def IOU(bboxes1, bboxes2):\n",
    "        x11, y11, x12, y12 = np.split(bboxes1, 4, axis=1)\n",
    "        x21, y21, x22, y22 = np.split(bboxes2, 4, axis=1)\n",
    "        xA = np.maximum(x11, np.transpose(x21))\n",
    "        yA = np.maximum(y11, np.transpose(y21))\n",
    "        xB = np.minimum(x12, np.transpose(x22))\n",
    "        yB = np.minimum(y12, np.transpose(y22))\n",
    "        interArea = np.maximum((xB - xA + 1), 0) * np.maximum((yB - yA + 1), 0)\n",
    "        boxAArea = (x12 - x11 + 1) * (y12 - y11 + 1)\n",
    "        boxBArea = (x22 - x21 + 1) * (y22 - y21 + 1)\n",
    "        iou = interArea / (boxAArea + np.transpose(boxBArea) - interArea)\n",
    "        return iou"
   ]
  },
  {
   "cell_type": "code",
   "execution_count": 69,
   "metadata": {},
   "outputs": [
    {
     "data": {
      "text/plain": [
       "{'filename': 'VOC_Images/007950.jpg',\n",
       " 'height': 375,\n",
       " 'width': 500,\n",
       " 'object': [{'name': 'car',\n",
       "   'xmin': 230.464,\n",
       "   'ymin': 349.44,\n",
       "   'xmax': 306.176,\n",
       "   'ymax': 373.8453333333333},\n",
       "  {'name': 'car',\n",
       "   'xmin': 0.832,\n",
       "   'ymin': 349.44,\n",
       "   'xmax': 46.592,\n",
       "   'ymax': 388.26666666666665},\n",
       "  {'name': 'car',\n",
       "   'xmin': 91.52,\n",
       "   'ymin': 345.00266666666664,\n",
       "   'xmax': 142.272,\n",
       "   'ymax': 374.95466666666664},\n",
       "  {'name': 'car',\n",
       "   'xmin': 69.88799999999999,\n",
       "   'ymin': 346.11199999999997,\n",
       "   'xmax': 99.83999999999999,\n",
       "   'ymax': 371.62666666666667},\n",
       "  {'name': 'car',\n",
       "   'xmin': 30.784,\n",
       "   'ymin': 343.8933333333333,\n",
       "   'xmax': 68.224,\n",
       "   'ymax': 372.736}]}"
      ]
     },
     "execution_count": 69,
     "metadata": {},
     "output_type": "execute_result"
    }
   ],
   "source": [
    "sample"
   ]
  },
  {
   "cell_type": "code",
   "execution_count": 17,
   "metadata": {},
   "outputs": [
    {
     "data": {
      "text/plain": [
       "[210, 265, 411, 250]"
      ]
     },
     "execution_count": 17,
     "metadata": {},
     "output_type": "execute_result"
    }
   ],
   "source": [
    "[cx,cy,iw,ih]"
   ]
  },
  {
   "cell_type": "code",
   "execution_count": 18,
   "metadata": {
    "colab": {},
    "colab_type": "code",
    "id": "aJ8mkUunpBaK"
   },
   "outputs": [],
   "source": [
    "model.save('yolo_400.h5')"
   ]
  },
  {
   "cell_type": "code",
   "execution_count": 19,
   "metadata": {
    "colab": {},
    "colab_type": "code",
    "id": "v55OMypTzvzQ"
   },
   "outputs": [
    {
     "ename": "NameError",
     "evalue": "name 'path_data' is not defined",
     "output_type": "error",
     "traceback": [
      "\u001b[1;31m---------------------------------------------------------------------------\u001b[0m",
      "\u001b[1;31mNameError\u001b[0m                                 Traceback (most recent call last)",
      "\u001b[1;32m<ipython-input-19-8e5606d18789>\u001b[0m in \u001b[0;36m<module>\u001b[1;34m\u001b[0m\n\u001b[0;32m      1\u001b[0m \u001b[1;32mimport\u001b[0m \u001b[0mpandas\u001b[0m \u001b[1;32mas\u001b[0m \u001b[0mpd\u001b[0m\u001b[1;33m\u001b[0m\u001b[1;33m\u001b[0m\u001b[0m\n\u001b[1;32m----> 2\u001b[1;33m \u001b[0mlbls\u001b[0m\u001b[1;33m=\u001b[0m\u001b[0mpd\u001b[0m\u001b[1;33m.\u001b[0m\u001b[0mread_csv\u001b[0m\u001b[1;33m(\u001b[0m\u001b[0mpath_data\u001b[0m\u001b[1;33m+\u001b[0m\u001b[1;34m'/label.csv'\u001b[0m\u001b[1;33m,\u001b[0m\u001b[0mnames\u001b[0m\u001b[1;33m=\u001b[0m\u001b[1;33m[\u001b[0m\u001b[1;36m0\u001b[0m\u001b[1;33m,\u001b[0m\u001b[1;36m1\u001b[0m\u001b[1;33m,\u001b[0m\u001b[1;36m2\u001b[0m\u001b[1;33m,\u001b[0m\u001b[1;36m3\u001b[0m\u001b[1;33m,\u001b[0m\u001b[1;36m4\u001b[0m\u001b[1;33m,\u001b[0m\u001b[1;36m5\u001b[0m\u001b[1;33m]\u001b[0m\u001b[1;33m)\u001b[0m\u001b[1;33m\u001b[0m\u001b[1;33m\u001b[0m\u001b[0m\n\u001b[0m\u001b[0;32m      3\u001b[0m \u001b[0mtrue_lb\u001b[0m\u001b[1;33m=\u001b[0m\u001b[0mlist\u001b[0m\u001b[1;33m(\u001b[0m\u001b[0mlbls\u001b[0m\u001b[1;33m.\u001b[0m\u001b[0mloc\u001b[0m\u001b[1;33m[\u001b[0m\u001b[1;36m0\u001b[0m\u001b[1;33m,\u001b[0m\u001b[1;36m0\u001b[0m\u001b[1;33m:\u001b[0m\u001b[1;36m5\u001b[0m\u001b[1;33m]\u001b[0m\u001b[1;33m)\u001b[0m\u001b[1;33m\u001b[0m\u001b[1;33m\u001b[0m\u001b[0m\n\u001b[0;32m      4\u001b[0m \u001b[0mtrue_lb\u001b[0m\u001b[1;33m\u001b[0m\u001b[1;33m\u001b[0m\u001b[0m\n",
      "\u001b[1;31mNameError\u001b[0m: name 'path_data' is not defined"
     ]
    }
   ],
   "source": [
    "import pandas as pd\n",
    "lbls=pd.read_csv(path_data+'/label.csv',names=[0,1,2,3,4,5])\n",
    "true_lb=list(lbls.loc[0,0:5])\n",
    "true_lb"
   ]
  },
  {
   "cell_type": "code",
   "execution_count": null,
   "metadata": {},
   "outputs": [],
   "source": [
    "import numpy as np\n",
    "import tensorflow as tf\n",
    "label=np.ones((7,7,15))\n",
    "label[...,14]=5\n",
    "true_box=np.argmax(label[...,10:],-1)"
   ]
  },
  {
   "cell_type": "code",
   "execution_count": null,
   "metadata": {},
   "outputs": [],
   "source": [
    "wts=np.ones((10))\n",
    "wts[3:7]=9\n",
    "res=tf.gather(wts,true_box)\n",
    "sess=tf.Session()\n",
    "ret=sess.run(res)\n",
    "ret"
   ]
  },
  {
   "cell_type": "code",
   "execution_count": null,
   "metadata": {},
   "outputs": [],
   "source": [
    "ret.shape"
   ]
  },
  {
   "cell_type": "code",
   "execution_count": null,
   "metadata": {},
   "outputs": [],
   "source": [
    "label[...,4:].shape"
   ]
  },
  {
   "cell_type": "code",
   "execution_count": null,
   "metadata": {},
   "outputs": [],
   "source": [
    "label[...,5:].shape"
   ]
  },
  {
   "cell_type": "code",
   "execution_count": null,
   "metadata": {},
   "outputs": [],
   "source": [
    "label[...,5:].shape"
   ]
  },
  {
   "cell_type": "code",
   "execution_count": null,
   "metadata": {},
   "outputs": [],
   "source": []
  }
 ],
 "metadata": {
  "accelerator": "GPU",
  "colab": {
   "collapsed_sections": [],
   "name": "Minimal_yolo_v_3_functioned",
   "provenance": []
  },
  "kernelspec": {
   "display_name": "Python 3",
   "language": "python",
   "name": "python3"
  },
  "language_info": {
   "codemirror_mode": {
    "name": "ipython",
    "version": 3
   },
   "file_extension": ".py",
   "mimetype": "text/x-python",
   "name": "python",
   "nbconvert_exporter": "python",
   "pygments_lexer": "ipython3",
   "version": "3.6.9"
  }
 },
 "nbformat": 4,
 "nbformat_minor": 1
}
