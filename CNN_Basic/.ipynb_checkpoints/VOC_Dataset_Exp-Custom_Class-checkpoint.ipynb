{
 "cells": [
  {
   "cell_type": "markdown",
   "metadata": {},
   "source": [
    "### VOC Dataset :  train , validation and test data dumping"
   ]
  },
  {
   "cell_type": "code",
   "execution_count": null,
   "metadata": {},
   "outputs": [],
   "source": [
    "import glob\n",
    "import cv2\n",
    "import pandas as pd\n",
    "import pickle\n",
    "train_dir='D:/VOC/VOC_2007'\n",
    "test_dir='D:/VOC/VOC_2007_test'\n",
    "data_save==True\n",
    "if data_save==True:\n",
    "  fnames=[]\n",
    "  \n",
    "  \n",
    "  train_data=[]\n",
    "  test_data=[]\n",
    "  i=0\n",
    "    \n",
    "  for file in glob.glob(train_dir+'Annotations/*'):\n",
    "    i+=1\n",
    "    \n",
    "    _,_,obj=read_content(file,train_dir)\n",
    "    train_data.append(obj)\n",
    "\n",
    "  i=0\n",
    "  for file in glob.glob(test_dir+'Annotations/*'):\n",
    "    i+=1\n",
    "    \n",
    "    _,_,obj=read_content(file,test_dir)\n",
    "    test_data.append(obj)\n",
    "    \n",
    "  f=open(train_dir+'_VOC_dfs','wb')\n",
    "  pickle.dump(train_data,f)\n",
    "  f.close()\n",
    "  f=open(test_dir+'_VOC_dfs','wb')\n",
    "  pickle.dump(test_data,f)\n",
    "  f.close()\n",
    "\n",
    "f=open(train_dir+'_VOC_dfs','rb')\n",
    "train_data=pickle.load(f)\n",
    "f.close()\n",
    "f=open(test_dir+'_VOC_dfs','rb')\n",
    "test_data=pickle.load(f)\n",
    "f.close()"
   ]
  },
  {
   "cell_type": "code",
   "execution_count": null,
   "metadata": {},
   "outputs": [],
   "source": []
  }
 ],
 "metadata": {
  "accelerator": "GPU",
  "colab": {
   "collapsed_sections": [],
   "name": "Minimal_yolo_v_3_functioned",
   "provenance": []
  },
  "kernelspec": {
   "display_name": "Python 3",
   "language": "python",
   "name": "python3"
  },
  "language_info": {
   "codemirror_mode": {
    "name": "ipython",
    "version": 3
   },
   "file_extension": ".py",
   "mimetype": "text/x-python",
   "name": "python",
   "nbconvert_exporter": "python",
   "pygments_lexer": "ipython3",
   "version": "3.6.10"
  }
 },
 "nbformat": 4,
 "nbformat_minor": 4
}
