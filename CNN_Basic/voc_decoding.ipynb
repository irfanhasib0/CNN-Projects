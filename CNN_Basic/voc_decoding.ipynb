{
 "cells": [
  {
   "cell_type": "code",
   "execution_count": 10,
   "metadata": {},
   "outputs": [
    {
     "name": "stdout",
     "output_type": "stream",
     "text": [
      "[<Element 'object' at 0x7f86f85047c8>, <Element 'object' at 0x7f86f85044a8>, <Element 'object' at 0x7f86f8504188>, <Element 'object' at 0x7f86f84ffc28>, <Element 'object' at 0x7f86f84ffc78>]\n",
      "[<Element 'name' at 0x7f86f8504458>]\n",
      "[<Element 'name' at 0x7f86f8504138>]\n",
      "[<Element 'name' at 0x7f86f85040e8>]\n",
      "[<Element 'name' at 0x7f86f84ffea8>]\n",
      "[<Element 'name' at 0x7f86f84ff9a8>]\n"
     ]
    }
   ],
   "source": [
    "import xml.etree.ElementTree as ET\n",
    "root = ET.parse('VOCdevkit/VOC2007/Annotations/000005.xml')#.getroot()\n",
    "for type_tag in root.findall('object'):\n",
    "    value = type_tag.findall('name')\n",
    "    print(value)"
   ]
  },
  {
   "cell_type": "code",
   "execution_count": 21,
   "metadata": {},
   "outputs": [
    {
     "name": "stdout",
     "output_type": "stream",
     "text": [
      "000005.jpg ['chair', 'chair', 'chair', 'chair', 'chair']\n"
     ]
    }
   ],
   "source": [
    "from xml.etree import ElementTree as ET\n",
    "tree = ET.parse(\"VOCdevkit/VOC2007/Annotations/000005.xml\")\n",
    "fn = tree.find('filename').text\n",
    "boxes = tree.findall('bndbox')\n",
    "fn == 'chanel1.jpg'\n",
    "boxes == []\n",
    "objs=[] \n",
    "def read_content(xml_file: str):\n",
    "\n",
    "    tree = ET.parse(xml_file)\n",
    "    root = tree.getroot()\n",
    "\n",
    "    list_with_all_boxes = []\n",
    "    filename = root.find('filename').text\n",
    "    for boxes in root.iter('object'):\n",
    "\n",
    "        \n",
    "        obj = boxes.find('name').text\n",
    "        ymin, xmin, ymax, xmax = None, None, None, None\n",
    "\n",
    "        for box in boxes.findall(\"bndbox\"):\n",
    "            ymin = int(box.find(\"ymin\").text)\n",
    "            xmin = int(box.find(\"xmin\").text)\n",
    "            ymax = int(box.find(\"ymax\").text)\n",
    "            xmax = int(box.find(\"xmax\").text)\n",
    "\n",
    "        list_with_single_boxes = [xmin, ymin, xmax, ymax]\n",
    "        list_with_all_boxes.append(list_with_single_boxes)\n",
    "        objs.append(obj)\n",
    "    return filename, list_with_all_boxes,objs\n",
    "\n",
    "fname, boxes, objs = read_content(\"VOCdevkit/VOC2007/Annotations/000005.xml\")\n",
    "print(fname,names)"
   ]
  }
 ],
 "metadata": {
  "kernelspec": {
   "display_name": "Python 3",
   "language": "python",
   "name": "python3"
  },
  "language_info": {
   "codemirror_mode": {
    "name": "ipython",
    "version": 3
   },
   "file_extension": ".py",
   "mimetype": "text/x-python",
   "name": "python",
   "nbconvert_exporter": "python",
   "pygments_lexer": "ipython3",
   "version": "3.6.7"
  }
 },
 "nbformat": 4,
 "nbformat_minor": 2
}
