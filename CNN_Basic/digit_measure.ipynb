{
 "cells": [
  {
   "cell_type": "code",
   "execution_count": 35,
   "metadata": {},
   "outputs": [],
   "source": [
    "import numpy as np\n",
    "import cv2 as cv\n",
    "from matplotlib import pyplot as plt\n",
    "import pandas as pd"
   ]
  },
  {
   "cell_type": "code",
   "execution_count": 36,
   "metadata": {},
   "outputs": [
    {
     "data": {
      "image/png": "[encoded data removed]",
      "text/plain": [
       "<Figure size 432x288 with 1 Axes>"
      ]
     },
     "metadata": {
      "needs_background": "light"
     },
     "output_type": "display_data"
    }
   ],
   "source": [
    "#fnames=glob.glod('/*')\n",
    "fnames=['D:/test.jpg']*10\n",
    "df=pd.DataFrame({},columns=['ratio1','ratio2','mean_ratio'])\n",
    "for ind,fname in enumerate(fnames):\n",
    "    im = cv.imread(fname)\n",
    "    imgray = cv.cvtColor(im, cv.COLOR_BGR2GRAY)\n",
    "    ret, thresh = cv.threshold(imgray, 127, 255, 0)\n",
    "    contours, hierarchy = cv.findContours(thresh, cv.RETR_TREE, cv.CHAIN_APPROX_SIMPLE)\n",
    "    areas=[cv.contourArea(cnt) for cnt in contours]\n",
    "    max_cnt=np.argmax(areas)\n",
    "    cnt=contours[max_cnt]\n",
    "    cv.drawContours(im, [cnt], -1, (0,255,0), 3)\n",
    "    #plt.imshow(im)\n",
    "    x,y,w,h = cv.boundingRect(cnt)\n",
    "    cv.rectangle(im,(x,y),(x+w,y+h),(255,0,0),2)\n",
    "    ratio1=cv.contourArea(cnt)/np.prod(im.shape[:2])\n",
    "    ratio2=(w*h)/np.prod(im.shape[:2])\n",
    "    \n",
    "    bbox_mean=im[x:x+w,y:y+h].mean()\n",
    "    border_mean=abs(im.mean()-bbox_mean)\n",
    "    mean_ratio=bbox_mean/border_mean\n",
    "    mean_img=im[x:x+w,y:y+h].mean\n",
    "    \n",
    "    df.loc[ind]=[ratio1,ratio2,mean_ratio]\n",
    "    #plt.imshow(im)\n",
    "_bins=[0.,0.1,0.2,0.3,0.4,0.5,0.6,0.7,0.8,0.9,1.0]\n",
    "df.ratio2,bins=pd.cut(df.ratio2,bins=5,labels=range(5),retbins=True)\n",
    "df.ratio2=df.ratio2.astype(float)\n",
    "df.ratio2.value_counts().plot.bar()\n",
    "plt.show()"
   ]
  },
  {
   "cell_type": "code",
   "execution_count": 31,
   "metadata": {},
   "outputs": [
    {
     "data": {
      "text/html": [
       "<div>\n",
       "<style scoped>\n",
       "    .dataframe tbody tr th:only-of-type {\n",
       "        vertical-align: middle;\n",
       "    }\n",
       "\n",
       "    .dataframe tbody tr th {\n",
       "        vertical-align: top;\n",
       "    }\n",
       "\n",
       "    .dataframe thead th {\n",
       "        text-align: right;\n",
       "    }\n",
       "</style>\n",
       "<table border=\"1\" class=\"dataframe\">\n",
       "  <thead>\n",
       "    <tr style=\"text-align: right;\">\n",
       "      <th></th>\n",
       "      <th>ratio1</th>\n",
       "      <th>ratio2</th>\n",
       "      <th>mean_ratio</th>\n",
       "    </tr>\n",
       "  </thead>\n",
       "  <tbody>\n",
       "    <tr>\n",
       "      <th>0</th>\n",
       "      <td>0.082937</td>\n",
       "      <td>2.0</td>\n",
       "      <td>2.523699</td>\n",
       "    </tr>\n",
       "    <tr>\n",
       "      <th>1</th>\n",
       "      <td>0.082937</td>\n",
       "      <td>2.0</td>\n",
       "      <td>2.523699</td>\n",
       "    </tr>\n",
       "    <tr>\n",
       "      <th>2</th>\n",
       "      <td>0.082937</td>\n",
       "      <td>2.0</td>\n",
       "      <td>2.523699</td>\n",
       "    </tr>\n",
       "    <tr>\n",
       "      <th>3</th>\n",
       "      <td>0.082937</td>\n",
       "      <td>2.0</td>\n",
       "      <td>2.523699</td>\n",
       "    </tr>\n",
       "    <tr>\n",
       "      <th>4</th>\n",
       "      <td>0.082937</td>\n",
       "      <td>2.0</td>\n",
       "      <td>2.523699</td>\n",
       "    </tr>\n",
       "    <tr>\n",
       "      <th>5</th>\n",
       "      <td>0.082937</td>\n",
       "      <td>2.0</td>\n",
       "      <td>2.523699</td>\n",
       "    </tr>\n",
       "    <tr>\n",
       "      <th>6</th>\n",
       "      <td>0.082937</td>\n",
       "      <td>2.0</td>\n",
       "      <td>2.523699</td>\n",
       "    </tr>\n",
       "    <tr>\n",
       "      <th>7</th>\n",
       "      <td>0.082937</td>\n",
       "      <td>2.0</td>\n",
       "      <td>2.523699</td>\n",
       "    </tr>\n",
       "    <tr>\n",
       "      <th>8</th>\n",
       "      <td>0.082937</td>\n",
       "      <td>2.0</td>\n",
       "      <td>2.523699</td>\n",
       "    </tr>\n",
       "    <tr>\n",
       "      <th>9</th>\n",
       "      <td>0.082937</td>\n",
       "      <td>2.0</td>\n",
       "      <td>2.523699</td>\n",
       "    </tr>\n",
       "  </tbody>\n",
       "</table>\n",
       "</div>"
      ],
      "text/plain": [
       "     ratio1  ratio2  mean_ratio\n",
       "0  0.082937     2.0    2.523699\n",
       "1  0.082937     2.0    2.523699\n",
       "2  0.082937     2.0    2.523699\n",
       "3  0.082937     2.0    2.523699\n",
       "4  0.082937     2.0    2.523699\n",
       "5  0.082937     2.0    2.523699\n",
       "6  0.082937     2.0    2.523699\n",
       "7  0.082937     2.0    2.523699\n",
       "8  0.082937     2.0    2.523699\n",
       "9  0.082937     2.0    2.523699"
      ]
     },
     "execution_count": 31,
     "metadata": {},
     "output_type": "execute_result"
    }
   ],
   "source": [
    "df"
   ]
  },
  {
   "cell_type": "code",
   "execution_count": null,
   "metadata": {},
   "outputs": [],
   "source": []
  }
 ],
 "metadata": {
  "kernelspec": {
   "display_name": "Python 3",
   "language": "python",
   "name": "python3"
  },
  "language_info": {
   "codemirror_mode": {
    "name": "ipython",
    "version": 3
   },
   "file_extension": ".py",
   "mimetype": "text/x-python",
   "name": "python",
   "nbconvert_exporter": "python",
   "pygments_lexer": "ipython3",
   "version": "3.6.9"
  }
 },
 "nbformat": 4,
 "nbformat_minor": 2
}
